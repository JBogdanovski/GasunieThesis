{
 "cells": [
  {
   "cell_type": "markdown",
   "metadata": {},
   "source": [
    "This notebook is used to create the dataframe with all Dutch municipalities. The CBS Wijk- en Buurtkaart dataset is used as source."
   ]
  },
  {
   "cell_type": "code",
   "execution_count": 2,
   "metadata": {},
   "outputs": [],
   "source": [
    "# import packages\n",
    "\n",
    "import numpy as np \n",
    "import pandas as pd  # provides interface for interacting with tabular data\n",
    "import geopandas as gpd  # combines the capabilities of pandas and shapely for geospatial operations\n",
    "from shapely.geometry import Point, Polygon, MultiPolygon  # for manipulating text data into geospatial shapes\n",
    "from shapely import wkt  # stands for \"well known text,\" allows for interchange across GIS programs\n",
    "import rtree  # supports geospatial join\n",
    "\n",
    "# import seaborn as sns\n",
    "import matplotlib. pyplot as plt # for plotting graphs\n",
    "import matplotlib.mlab as mlab # \n",
    "import matplotlib\n",
    "plt.style.use('ggplot') # basic, but functional, plotstyle,\n",
    "from matplotlib.pyplot import figure\n",
    "%matplotlib inline\n",
    "matplotlib.rcParams['figure.figsize'] = (12,8)"
   ]
  },
  {
   "cell_type": "code",
   "execution_count": 2,
   "metadata": {},
   "outputs": [],
   "source": [
    "# reading data\n",
    "\n",
    "# CBS dataset\n",
    "municipalities_input = gpd.read_file(\"/Users/jaromirbogdanovski/Documents/Studie/EPA/Master Thesis/Igor Nikolic/Coding/Data/Input/Gemeente/gemeente_2017_v3.shp\")\n",
    "\n",
    "# Municipalities and MR-stations \n",
    "municipalities_MR = pd.read_excel(\"/Users/jaromirbogdanovski/Documents/Studie/EPA/Master Thesis/Igor Nikolic/Coding/Data/Output/Gemeente_excelGasunie/municipalities.xls\")\n",
    "\n",
    "# List of unique MR-stations\n",
    "MR_stations = pd.read_excel(\"/Users/jaromirbogdanovski/Documents/Studie/EPA/Master Thesis/Igor Nikolic/Coding/Data/Output/Gemeente_excelGasunie/municipalities.xls\", sheet_name = \"Unique MR\")"
   ]
  },
  {
   "cell_type": "code",
   "execution_count": 3,
   "metadata": {},
   "outputs": [],
   "source": [
    "# cleaning data\n",
    "\n",
    "# selecting the columns that need to be included\n",
    "municipalities_1 = municipalities_input[['GM_NAAM','GM_CODE','WATER','AANT_INW','AANTAL_HH','geometry']]\n",
    "\n",
    "# remove the non-sensible entries that are water\n",
    "municipalities_2 = municipalities_1.loc[municipalities_1['WATER'] == 'NEE']\n",
    "\n",
    "\n"
   ]
  },
  {
   "cell_type": "code",
   "execution_count": 4,
   "metadata": {},
   "outputs": [],
   "source": [
    "# transforming data"
   ]
  },
  {
   "cell_type": "code",
   "execution_count": 5,
   "metadata": {
    "collapsed": true
   },
   "outputs": [],
   "source": [
    "# creating a municipality distance matrix\n",
    "\n",
    "# function that takes two series of names and a df source and then computes the distances between all its entries\n",
    "# it returns a distance dataframe\n",
    "def dist_geopandas_2(names_i, names_j, source):\n",
    "    df = pd.DataFrame(index=names_i, columns=names_j) # create an empty df with the mp names as index and column names\n",
    "    df = df.fillna(0) # fill it empty\n",
    "    for i in names_i: # iterate over names\n",
    "        for j in names_j: # iterate over names\n",
    "            mp_i = gpd.GeoDataFrame(source[['GM_NAAM', 'centroid']][source.GM_NAAM == i]) # get geopandas dataframe for entry i\n",
    "            mp_j = gpd.GeoDataFrame(source[['GM_NAAM', 'centroid']][source.GM_NAAM == j]) # get geopandas dataframe for entry j\n",
    "            mp_i = mp_i.rename(columns={'centroid':'geometry'}).reset_index(drop=True) # rename the centroid columnn to geometry so that the distance function can computer\n",
    "            mp_j = mp_j.rename(columns={'centroid':'geometry'}).reset_index(drop=True) # rename the centroid columnn to geometry so that the distance function can compute\n",
    "            \n",
    "            dist = mp_i.distance(mp_j) # calculate the distances\n",
    "            \n",
    "            df.at[i,j] = dist # add distance to dataframe\n",
    "            \n",
    "    return df"
   ]
  },
  {
   "cell_type": "code",
   "execution_count": 6,
   "metadata": {
    "collapsed": true
   },
   "outputs": [],
   "source": [
    "# function that takes the municipalities of interest, the variable that is used as a mass proxy, and the source dataframes\n",
    "# then outputs a dataframe containing the gravity outputs for all municipality combinations\n",
    "def gravitymodel(names_i, names_j, mass_variable, source_dist, source_mass): \n",
    "    df = pd.DataFrame(index=names_i, columns=names_j) # create an empty df with names on rows and columns\n",
    "    df = df.fillna(0)\n",
    "    for i in names_i:\n",
    "        for j in names_j:\n",
    "            mass_i = municipalities_2[municipalities_2.GM_NAAM == i].AANT_INW.item() # extracts the mass variable\n",
    "            mass_j = municipalities_2[municipalities_2.GM_NAAM == j].AANT_INW.item() # extracts the mass variable\n",
    "            dist_i_j = df_dist[i][j] # extracts the distance between i and j\n",
    "            if dist_i_j == 0: # this ifelse statement prevents the info_vol formula from calculating infinity\n",
    "                info_vol = 0\n",
    "            else:\n",
    "                info_vol = (mass_i * mass_j)/dist_i_j #squared????\n",
    "            \n",
    "            df.at[i,j] = info_vol # place the info_vol output in the dataframe at the correct place\n",
    "    return df "
   ]
  },
  {
   "cell_type": "code",
   "execution_count": 7,
   "metadata": {
    "collapsed": true
   },
   "outputs": [],
   "source": [
    "#df_dist = dist_geopandas_2(municipalities_2.GM_NAAM, municipalities_2.GM_NAAM, municipalities_2)\n",
    "\n",
    "# write the df to a file for speed purposes\n",
    "# df_dist.to_csv('/Users/jaromirbogdanovski/Documents/Studie/EPA/Master Thesis/Igor Nikolic/Coding/Data/Output/distance_df.csv')"
   ]
  },
  {
   "cell_type": "code",
   "execution_count": 8,
   "metadata": {
    "collapsed": true
   },
   "outputs": [],
   "source": [
    "# df_gravity = gravitymodel(municipalities_2.GM_NAAM, municipalities_2.GM_NAAM, 'AANT_INW', df_dist, municipalities_2)\n",
    "\n",
    "# write the df to a file for speed purposes\n",
    "# df_gravity.to_csv('/Users/jaromirbogdanovski/Documents/Studie/EPA/Master Thesis/Igor Nikolic/Coding/Data/Output/gravity_df.csv')"
   ]
  },
  {
   "cell_type": "code",
   "execution_count": 5,
   "metadata": {},
   "outputs": [],
   "source": [
    "# add MR-stations columnn to df\n",
    "\n",
    "municipalities_3 = municipalities_2.merge(municipalities_MR, how = \"inner\", on = \"GM_NAAM\").drop(['Unnamed: 0', 'Station 2'], axis = 1)"
   ]
  },
  {
   "cell_type": "code",
   "execution_count": 6,
   "metadata": {},
   "outputs": [],
   "source": [
    "# create df of unique MR stations\n",
    "\n"
   ]
  },
  {
   "cell_type": "code",
   "execution_count": 7,
   "metadata": {},
   "outputs": [],
   "source": [
    "# transforming the projection system to WGS84 to be readable for Netlogo\n",
    "municipalities_3_WGS84 = municipalities_3.to_crs(\"EPSG:32632\")"
   ]
  },
  {
   "cell_type": "code",
   "execution_count": 27,
   "metadata": {},
   "outputs": [],
   "source": [
    "# Writing data\n",
    "\n",
    "# write the df to a file for speed purposes\n",
    "# df_dist.to_csv('/Users/jaromirbogdanovski/Documents/Studie/EPA/Master Thesis/Igor Nikolic/Coding/Data/Output/distance_df.csv')\n",
    "\n",
    "# write the df to a file for speed purposes\n",
    "# df_gravity.to_csv('/Users/jaromirbogdanovski/Documents/Studie/EPA/Master Thesis/Igor Nikolic/Coding/Data/Output/gravity_df.csv')\n",
    "\n",
    "# write the municipalities dataframe to file\n",
    "#municipalities_3_WGS84.to_file(\"/Users/jaromirbogdanovski/Documents/Studie/EPA/Master Thesis/Igor Nikolic/Coding/Data/Output/Gemeente/04_08/municipalities.shp\")\n",
    "\n",
    "# write municipalities df to excel file\n",
    "#municipalities_2_WGS84.GM_NAAM.to_excel(\"/Users/jaromirbogdanovski/Documents/Studie/EPA/Master Thesis/Igor Nikolic/Coding/Data/Output/Gemeente_excelGasunie/municipalities.xls\")\n",
    "\n",
    "# write unique MR stations to file\n",
    "#MR_stations.to_csv(\"/Users/jaromirbogdanovski/Documents/Studie/EPA/Master Thesis/Igor Nikolic/Coding/Data/Output/Gemeente/04_08/MR_stations.csv\")"
   ]
  },
  {
   "cell_type": "code",
   "execution_count": null,
   "metadata": {},
   "outputs": [],
   "source": []
  },
  {
   "cell_type": "code",
   "execution_count": 4,
   "metadata": {},
   "outputs": [],
   "source": [
    "# descriptives used dataset\n",
    "\n",
    "mp_dataset = gpd.read_file(\"/Users/jaromirbogdanovski/Documents/Studie/EPA/Master Thesis/Igor Nikolic/Coding/Data/Output/Gemeente/04_08/municipalities.shp\")"
   ]
  },
  {
   "cell_type": "code",
   "execution_count": 6,
   "metadata": {},
   "outputs": [
    {
     "data": {
      "text/html": [
       "<div>\n",
       "<style scoped>\n",
       "    .dataframe tbody tr th:only-of-type {\n",
       "        vertical-align: middle;\n",
       "    }\n",
       "\n",
       "    .dataframe tbody tr th {\n",
       "        vertical-align: top;\n",
       "    }\n",
       "\n",
       "    .dataframe thead th {\n",
       "        text-align: right;\n",
       "    }\n",
       "</style>\n",
       "<table border=\"1\" class=\"dataframe\">\n",
       "  <thead>\n",
       "    <tr style=\"text-align: right;\">\n",
       "      <th></th>\n",
       "      <th>GM_NAAM</th>\n",
       "      <th>GM_CODE</th>\n",
       "      <th>WATER</th>\n",
       "      <th>AANT_INW</th>\n",
       "      <th>AANTAL_HH</th>\n",
       "      <th>Station 1</th>\n",
       "      <th>geometry</th>\n",
       "    </tr>\n",
       "  </thead>\n",
       "  <tbody>\n",
       "    <tr>\n",
       "      <th>0</th>\n",
       "      <td>Appingedam</td>\n",
       "      <td>GM0003</td>\n",
       "      <td>NEE</td>\n",
       "      <td>11971</td>\n",
       "      <td>5600</td>\n",
       "      <td>Scheemda</td>\n",
       "      <td>POLYGON ((353839.370 5909783.240, 353842.934 5...</td>\n",
       "    </tr>\n",
       "    <tr>\n",
       "      <th>1</th>\n",
       "      <td>Bedum</td>\n",
       "      <td>GM0005</td>\n",
       "      <td>NEE</td>\n",
       "      <td>10479</td>\n",
       "      <td>4399</td>\n",
       "      <td>Oostum</td>\n",
       "      <td>POLYGON ((337192.538 5907060.071, 337194.266 5...</td>\n",
       "    </tr>\n",
       "    <tr>\n",
       "      <th>2</th>\n",
       "      <td>Bellingwedde</td>\n",
       "      <td>GM0007</td>\n",
       "      <td>NEE</td>\n",
       "      <td>8919</td>\n",
       "      <td>3989</td>\n",
       "      <td>Scheemda</td>\n",
       "      <td>POLYGON ((367873.097 5886598.533, 367869.490 5...</td>\n",
       "    </tr>\n",
       "    <tr>\n",
       "      <th>3</th>\n",
       "      <td>Ten Boer</td>\n",
       "      <td>GM0009</td>\n",
       "      <td>NEE</td>\n",
       "      <td>7288</td>\n",
       "      <td>2958</td>\n",
       "      <td>Oostum</td>\n",
       "      <td>POLYGON ((349469.059 5909379.570, 349470.098 5...</td>\n",
       "    </tr>\n",
       "    <tr>\n",
       "      <th>4</th>\n",
       "      <td>Delfzijl</td>\n",
       "      <td>GM0010</td>\n",
       "      <td>NEE</td>\n",
       "      <td>24965</td>\n",
       "      <td>11527</td>\n",
       "      <td>Scheemda</td>\n",
       "      <td>MULTIPOLYGON (((373511.642 5909827.229, 373511...</td>\n",
       "    </tr>\n",
       "    <tr>\n",
       "      <th>...</th>\n",
       "      <td>...</td>\n",
       "      <td>...</td>\n",
       "      <td>...</td>\n",
       "      <td>...</td>\n",
       "      <td>...</td>\n",
       "      <td>...</td>\n",
       "      <td>...</td>\n",
       "    </tr>\n",
       "    <tr>\n",
       "      <th>383</th>\n",
       "      <td>Gooise Meren</td>\n",
       "      <td>GM1942</td>\n",
       "      <td>NEE</td>\n",
       "      <td>56935</td>\n",
       "      <td>25494</td>\n",
       "      <td>Hilversum</td>\n",
       "      <td>MULTIPOLYGON (((232988.316 5806588.703, 232988...</td>\n",
       "    </tr>\n",
       "    <tr>\n",
       "      <th>384</th>\n",
       "      <td>Berg en Dal</td>\n",
       "      <td>GM1945</td>\n",
       "      <td>NEE</td>\n",
       "      <td>34764</td>\n",
       "      <td>15494</td>\n",
       "      <td>Ewijk</td>\n",
       "      <td>POLYGON ((286078.690 5747866.096, 286076.136 5...</td>\n",
       "    </tr>\n",
       "    <tr>\n",
       "      <th>385</th>\n",
       "      <td>Meierijstad</td>\n",
       "      <td>GM1948</td>\n",
       "      <td>NEE</td>\n",
       "      <td>79864</td>\n",
       "      <td>33611</td>\n",
       "      <td>Boxtel</td>\n",
       "      <td>POLYGON ((250051.381 5725096.529, 250050.949 5...</td>\n",
       "    </tr>\n",
       "    <tr>\n",
       "      <th>386</th>\n",
       "      <td>Montferland</td>\n",
       "      <td>GM1955</td>\n",
       "      <td>NEE</td>\n",
       "      <td>35316</td>\n",
       "      <td>15161</td>\n",
       "      <td>Angerlo</td>\n",
       "      <td>POLYGON ((304307.023 5754994.503, 304306.372 5...</td>\n",
       "    </tr>\n",
       "    <tr>\n",
       "      <th>387</th>\n",
       "      <td>Menterwolde</td>\n",
       "      <td>GM1987</td>\n",
       "      <td>NEE</td>\n",
       "      <td>12162</td>\n",
       "      <td>5364</td>\n",
       "      <td>Scheemda</td>\n",
       "      <td>POLYGON ((354342.520 5896348.752, 354285.594 5...</td>\n",
       "    </tr>\n",
       "  </tbody>\n",
       "</table>\n",
       "<p>388 rows × 7 columns</p>\n",
       "</div>"
      ],
      "text/plain": [
       "          GM_NAAM GM_CODE WATER  AANT_INW  AANTAL_HH  Station 1  \\\n",
       "0      Appingedam  GM0003   NEE     11971       5600   Scheemda   \n",
       "1           Bedum  GM0005   NEE     10479       4399     Oostum   \n",
       "2    Bellingwedde  GM0007   NEE      8919       3989   Scheemda   \n",
       "3        Ten Boer  GM0009   NEE      7288       2958     Oostum   \n",
       "4        Delfzijl  GM0010   NEE     24965      11527   Scheemda   \n",
       "..            ...     ...   ...       ...        ...        ...   \n",
       "383  Gooise Meren  GM1942   NEE     56935      25494  Hilversum   \n",
       "384   Berg en Dal  GM1945   NEE     34764      15494      Ewijk   \n",
       "385   Meierijstad  GM1948   NEE     79864      33611     Boxtel   \n",
       "386   Montferland  GM1955   NEE     35316      15161    Angerlo   \n",
       "387   Menterwolde  GM1987   NEE     12162       5364   Scheemda   \n",
       "\n",
       "                                              geometry  \n",
       "0    POLYGON ((353839.370 5909783.240, 353842.934 5...  \n",
       "1    POLYGON ((337192.538 5907060.071, 337194.266 5...  \n",
       "2    POLYGON ((367873.097 5886598.533, 367869.490 5...  \n",
       "3    POLYGON ((349469.059 5909379.570, 349470.098 5...  \n",
       "4    MULTIPOLYGON (((373511.642 5909827.229, 373511...  \n",
       "..                                                 ...  \n",
       "383  MULTIPOLYGON (((232988.316 5806588.703, 232988...  \n",
       "384  POLYGON ((286078.690 5747866.096, 286076.136 5...  \n",
       "385  POLYGON ((250051.381 5725096.529, 250050.949 5...  \n",
       "386  POLYGON ((304307.023 5754994.503, 304306.372 5...  \n",
       "387  POLYGON ((354342.520 5896348.752, 354285.594 5...  \n",
       "\n",
       "[388 rows x 7 columns]"
      ]
     },
     "execution_count": 6,
     "metadata": {},
     "output_type": "execute_result"
    }
   ],
   "source": [
    "mp_dataset"
   ]
  },
  {
   "cell_type": "code",
   "execution_count": 7,
   "metadata": {
    "scrolled": true
   },
   "outputs": [],
   "source": [
    "df_latex1 = mp_dataset[['AANTAL_HH']].describe()"
   ]
  },
  {
   "cell_type": "code",
   "execution_count": 8,
   "metadata": {},
   "outputs": [
    {
     "name": "stdout",
     "output_type": "stream",
     "text": [
      "\\begin{tabular}{lr}\n",
      "\\toprule\n",
      "{} &      AANTAL\\_HH \\\\\n",
      "\\midrule\n",
      "count &     388.000000 \\\\\n",
      "mean  &   20087.822165 \\\\\n",
      "std   &   35522.701497 \\\\\n",
      "min   &     509.000000 \\\\\n",
      "25\\%   &    7465.250000 \\\\\n",
      "50\\%   &   11291.500000 \\\\\n",
      "75\\%   &   19398.000000 \\\\\n",
      "max   &  462329.000000 \\\\\n",
      "\\bottomrule\n",
      "\\end{tabular}\n",
      "\n"
     ]
    }
   ],
   "source": [
    "print(df_latex1.to_latex())"
   ]
  },
  {
   "cell_type": "code",
   "execution_count": null,
   "metadata": {},
   "outputs": [],
   "source": []
  }
 ],
 "metadata": {
  "kernelspec": {
   "display_name": "Python 3",
   "language": "python",
   "name": "python3"
  },
  "language_info": {
   "codemirror_mode": {
    "name": "ipython",
    "version": 3
   },
   "file_extension": ".py",
   "mimetype": "text/x-python",
   "name": "python",
   "nbconvert_exporter": "python",
   "pygments_lexer": "ipython3",
   "version": "3.6.10"
  }
 },
 "nbformat": 4,
 "nbformat_minor": 2
}
