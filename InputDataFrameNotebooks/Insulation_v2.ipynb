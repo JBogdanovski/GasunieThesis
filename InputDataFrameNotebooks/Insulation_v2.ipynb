{
 "cells": [
  {
   "cell_type": "markdown",
   "metadata": {},
   "source": [
    "# 1. Importing the packages"
   ]
  },
  {
   "cell_type": "markdown",
   "metadata": {},
   "source": [
    "This notebook is used to create the average level of insulation per postalcode. This dataset is used to merge on the neighborhoods dataframe to allow for the inclusion of insulation statistics in the model."
   ]
  },
  {
   "cell_type": "code",
   "execution_count": 10,
   "metadata": {
    "collapsed": true
   },
   "outputs": [],
   "source": [
    "# Importing python packages\n",
    "\n",
    "import numpy as np \n",
    "import pandas as pd  # provides interface for interacting with tabular data\n",
    "import geopandas as gpd  # combines the capabilities of pandas and shapely for geospatial operations\n",
    "from shapely.geometry import Point, Polygon, MultiPolygon  # for manipulating text data into geospatial shapes\n",
    "from shapely import wkt  # stands for \"well known text,\" allows for interchange across GIS programs\n",
    "import rtree  # supports geospatial join\n",
    "\n",
    "from pyxlsb import open_workbook\n",
    "\n",
    "# import seaborn as sns\n",
    "import matplotlib. pyplot as plt # for plotting graphs\n",
    "import matplotlib.mlab as mlab # \n",
    "import matplotlib\n",
    "plt.style.use('ggplot') # basic, but functional, plotstyle,\n",
    "from matplotlib.pyplot import figure\n",
    "%matplotlib inline\n",
    "matplotlib.rcParams['figure.figsize'] = (12,8)"
   ]
  },
  {
   "cell_type": "markdown",
   "metadata": {},
   "source": [
    "# 2. Reading the data"
   ]
  },
  {
   "cell_type": "markdown",
   "metadata": {},
   "source": [
    "Website sourcefile: https://www.rvo.nl/onderwerpen/duurzaam-ondernemen/gebouwen/hulpmiddelen-tools-en-inspiratie-gebouwen/ep-online\n",
    "\n",
    "Importing the xlsb file format of this dataset is not as straightforward as using the pandas read_excel function. We therefore need the pyxlsb package to read the file. Then we have to import each sheet seperately and append them to one dataframe."
   ]
  },
  {
   "cell_type": "code",
   "execution_count": 11,
   "metadata": {
    "collapsed": true
   },
   "outputs": [],
   "source": [
    "#df=[]\n",
    "#with open_workbook('/Users/jaromirbogdanovski/Documents/Studie/EPA/Master Thesis/Igor Nikolic/Coding/Data/Input/Voorlopige-labels-december-2019.xlsb') as wb:\n",
    "#    for i in range(9):\n",
    "#        with wb.get_sheet(i+1) as sheet:\n",
    "#            for row in sheet.rows():\n",
    "#                df.append([item.v for item in row])\n",
    "\n",
    "#insulation_input = pd.DataFrame(df[1:], columns=df[0])"
   ]
  },
  {
   "cell_type": "code",
   "execution_count": 12,
   "metadata": {
    "collapsed": true
   },
   "outputs": [],
   "source": [
    "# write the dataset to a temporary file that is faster\n",
    "\n",
    "#insulation_input.to_csv('/Users/jaromirbogdanovski/Documents/Studie/EPA/Master Thesis/Igor Nikolic/Coding/Data/Input/Voorlopige-labels-december-2019_FAST_v1.csv', index=False)"
   ]
  },
  {
   "cell_type": "code",
   "execution_count": 13,
   "metadata": {},
   "outputs": [],
   "source": [
    "# read the fast csv\n",
    "\n",
    "insulation_input = pd.read_csv('/Users/jaromirbogdanovski/Documents/Studie/EPA/Master Thesis/Igor Nikolic/Coding/Data/Input/Voorlopige-labels-december-2019_FAST_v1.csv', low_memory = False)"
   ]
  },
  {
   "cell_type": "markdown",
   "metadata": {},
   "source": [
    "# 3. Inspecting the data"
   ]
  },
  {
   "cell_type": "code",
   "execution_count": 14,
   "metadata": {},
   "outputs": [
    {
     "data": {
      "text/html": [
       "<div>\n",
       "<style scoped>\n",
       "    .dataframe tbody tr th:only-of-type {\n",
       "        vertical-align: middle;\n",
       "    }\n",
       "\n",
       "    .dataframe tbody tr th {\n",
       "        vertical-align: top;\n",
       "    }\n",
       "\n",
       "    .dataframe thead th {\n",
       "        text-align: right;\n",
       "    }\n",
       "</style>\n",
       "<table border=\"1\" class=\"dataframe\">\n",
       "  <thead>\n",
       "    <tr style=\"text-align: right;\">\n",
       "      <th></th>\n",
       "      <th>POSTCODE_WONING</th>\n",
       "      <th>HUISNUMMER_WONING</th>\n",
       "      <th>HUISNUMMER_TOEV_WONING</th>\n",
       "      <th>BOUWJAAR_WONING</th>\n",
       "      <th>WONING_TYPE</th>\n",
       "      <th>VOORL_BEREKEND</th>\n",
       "    </tr>\n",
       "  </thead>\n",
       "  <tbody>\n",
       "    <tr>\n",
       "      <th>count</th>\n",
       "      <td>9070197</td>\n",
       "      <td>9070197</td>\n",
       "      <td>1533044</td>\n",
       "      <td>9070197</td>\n",
       "      <td>9070197</td>\n",
       "      <td>8317556</td>\n",
       "    </tr>\n",
       "    <tr>\n",
       "      <th>unique</th>\n",
       "      <td>459632</td>\n",
       "      <td>10174</td>\n",
       "      <td>26033</td>\n",
       "      <td>751</td>\n",
       "      <td>9</td>\n",
       "      <td>8</td>\n",
       "    </tr>\n",
       "    <tr>\n",
       "      <th>top</th>\n",
       "      <td>1033SC</td>\n",
       "      <td>1.0</td>\n",
       "      <td>A</td>\n",
       "      <td>1970.0</td>\n",
       "      <td>Flat/appartement</td>\n",
       "      <td>C</td>\n",
       "    </tr>\n",
       "    <tr>\n",
       "      <th>freq</th>\n",
       "      <td>1107</td>\n",
       "      <td>260764</td>\n",
       "      <td>386555</td>\n",
       "      <td>192051</td>\n",
       "      <td>2857292</td>\n",
       "      <td>2283250</td>\n",
       "    </tr>\n",
       "  </tbody>\n",
       "</table>\n",
       "</div>"
      ],
      "text/plain": [
       "       POSTCODE_WONING HUISNUMMER_WONING HUISNUMMER_TOEV_WONING  \\\n",
       "count          9070197           9070197                1533044   \n",
       "unique          459632             10174                  26033   \n",
       "top             1033SC               1.0                      A   \n",
       "freq              1107            260764                 386555   \n",
       "\n",
       "       BOUWJAAR_WONING       WONING_TYPE VOORL_BEREKEND  \n",
       "count          9070197           9070197        8317556  \n",
       "unique             751                 9              8  \n",
       "top             1970.0  Flat/appartement              C  \n",
       "freq            192051           2857292        2283250  "
      ]
     },
     "execution_count": 14,
     "metadata": {},
     "output_type": "execute_result"
    }
   ],
   "source": [
    "insulation_input.describe()"
   ]
  },
  {
   "cell_type": "code",
   "execution_count": 15,
   "metadata": {
    "scrolled": true
   },
   "outputs": [
    {
     "data": {
      "text/html": [
       "<div>\n",
       "<style scoped>\n",
       "    .dataframe tbody tr th:only-of-type {\n",
       "        vertical-align: middle;\n",
       "    }\n",
       "\n",
       "    .dataframe tbody tr th {\n",
       "        vertical-align: top;\n",
       "    }\n",
       "\n",
       "    .dataframe thead th {\n",
       "        text-align: right;\n",
       "    }\n",
       "</style>\n",
       "<table border=\"1\" class=\"dataframe\">\n",
       "  <thead>\n",
       "    <tr style=\"text-align: right;\">\n",
       "      <th></th>\n",
       "      <th>POSTCODE_WONING</th>\n",
       "      <th>HUISNUMMER_WONING</th>\n",
       "      <th>HUISNUMMER_TOEV_WONING</th>\n",
       "      <th>BOUWJAAR_WONING</th>\n",
       "      <th>WONING_TYPE</th>\n",
       "      <th>VOORL_BEREKEND</th>\n",
       "    </tr>\n",
       "  </thead>\n",
       "  <tbody>\n",
       "    <tr>\n",
       "      <th>6893868</th>\n",
       "      <td>5237LK</td>\n",
       "      <td>10.0</td>\n",
       "      <td>NaN</td>\n",
       "      <td>1991.0</td>\n",
       "      <td>Twee/één kapwoning</td>\n",
       "      <td>C</td>\n",
       "    </tr>\n",
       "    <tr>\n",
       "      <th>8250923</th>\n",
       "      <td>4301HE</td>\n",
       "      <td>26.0</td>\n",
       "      <td>NaN</td>\n",
       "      <td>1920.0</td>\n",
       "      <td>Flat/appartement</td>\n",
       "      <td>G</td>\n",
       "    </tr>\n",
       "    <tr>\n",
       "      <th>5649658</th>\n",
       "      <td>3011TA</td>\n",
       "      <td>688.0</td>\n",
       "      <td>NaN</td>\n",
       "      <td>2006.0</td>\n",
       "      <td>Flat/appartement</td>\n",
       "      <td>A</td>\n",
       "    </tr>\n",
       "    <tr>\n",
       "      <th>7173890</th>\n",
       "      <td>5044HR</td>\n",
       "      <td>8.0</td>\n",
       "      <td>NaN</td>\n",
       "      <td>1973.0</td>\n",
       "      <td>Niet wonen</td>\n",
       "      <td>NaN</td>\n",
       "    </tr>\n",
       "    <tr>\n",
       "      <th>7383980</th>\n",
       "      <td>5142BB</td>\n",
       "      <td>9.0</td>\n",
       "      <td>NaN</td>\n",
       "      <td>1966.0</td>\n",
       "      <td>Rijwoning tussen</td>\n",
       "      <td>C</td>\n",
       "    </tr>\n",
       "    <tr>\n",
       "      <th>2456024</th>\n",
       "      <td>3603AK</td>\n",
       "      <td>17.0</td>\n",
       "      <td>NaN</td>\n",
       "      <td>1906.0</td>\n",
       "      <td>Rijwoning hoek</td>\n",
       "      <td>G</td>\n",
       "    </tr>\n",
       "    <tr>\n",
       "      <th>3752463</th>\n",
       "      <td>2131XE</td>\n",
       "      <td>16.0</td>\n",
       "      <td>NaN</td>\n",
       "      <td>1910.0</td>\n",
       "      <td>Vrijstaande woning</td>\n",
       "      <td>G</td>\n",
       "    </tr>\n",
       "    <tr>\n",
       "      <th>1224836</th>\n",
       "      <td>8111AZ</td>\n",
       "      <td>327.0</td>\n",
       "      <td>NaN</td>\n",
       "      <td>1991.0</td>\n",
       "      <td>Flat/appartement</td>\n",
       "      <td>C</td>\n",
       "    </tr>\n",
       "    <tr>\n",
       "      <th>1592372</th>\n",
       "      <td>4033AK</td>\n",
       "      <td>2.0</td>\n",
       "      <td>NaN</td>\n",
       "      <td>1990.0</td>\n",
       "      <td>Vrijstaande woning</td>\n",
       "      <td>B</td>\n",
       "    </tr>\n",
       "    <tr>\n",
       "      <th>7648843</th>\n",
       "      <td>6226BC</td>\n",
       "      <td>163.0</td>\n",
       "      <td>NaN</td>\n",
       "      <td>1936.0</td>\n",
       "      <td>Rijwoning hoek</td>\n",
       "      <td>G</td>\n",
       "    </tr>\n",
       "    <tr>\n",
       "      <th>2283515</th>\n",
       "      <td>3818WB</td>\n",
       "      <td>39.0</td>\n",
       "      <td>E</td>\n",
       "      <td>1925.0</td>\n",
       "      <td>Flat/appartement</td>\n",
       "      <td>G</td>\n",
       "    </tr>\n",
       "    <tr>\n",
       "      <th>856616</th>\n",
       "      <td>7608RR</td>\n",
       "      <td>22.0</td>\n",
       "      <td>NaN</td>\n",
       "      <td>1986.0</td>\n",
       "      <td>Rijwoning hoek</td>\n",
       "      <td>C</td>\n",
       "    </tr>\n",
       "    <tr>\n",
       "      <th>581497</th>\n",
       "      <td>8431MB</td>\n",
       "      <td>501.0</td>\n",
       "      <td>NaN</td>\n",
       "      <td>1971.0</td>\n",
       "      <td>Flat/appartement</td>\n",
       "      <td>E</td>\n",
       "    </tr>\n",
       "    <tr>\n",
       "      <th>5347782</th>\n",
       "      <td>2983GW</td>\n",
       "      <td>90.0</td>\n",
       "      <td>NaN</td>\n",
       "      <td>2018.0</td>\n",
       "      <td>Flat/appartement</td>\n",
       "      <td>A</td>\n",
       "    </tr>\n",
       "    <tr>\n",
       "      <th>1664542</th>\n",
       "      <td>6921ZJ</td>\n",
       "      <td>36.0</td>\n",
       "      <td>NaN</td>\n",
       "      <td>1967.0</td>\n",
       "      <td>Twee/één kapwoning</td>\n",
       "      <td>D</td>\n",
       "    </tr>\n",
       "    <tr>\n",
       "      <th>2023061</th>\n",
       "      <td>6862VK</td>\n",
       "      <td>10.0</td>\n",
       "      <td>NaN</td>\n",
       "      <td>1976.0</td>\n",
       "      <td>Vrijstaande woning</td>\n",
       "      <td>C</td>\n",
       "    </tr>\n",
       "    <tr>\n",
       "      <th>6758012</th>\n",
       "      <td>4931DL</td>\n",
       "      <td>22.0</td>\n",
       "      <td>NaN</td>\n",
       "      <td>2007.0</td>\n",
       "      <td>Rijwoning tussen</td>\n",
       "      <td>A</td>\n",
       "    </tr>\n",
       "    <tr>\n",
       "      <th>5443057</th>\n",
       "      <td>3071KG</td>\n",
       "      <td>96.0</td>\n",
       "      <td>D</td>\n",
       "      <td>1990.0</td>\n",
       "      <td>Flat/appartement</td>\n",
       "      <td>C</td>\n",
       "    </tr>\n",
       "    <tr>\n",
       "      <th>6164956</th>\n",
       "      <td>8551PJ</td>\n",
       "      <td>30.0</td>\n",
       "      <td>NaN</td>\n",
       "      <td>1840.0</td>\n",
       "      <td>Niet wonen</td>\n",
       "      <td>NaN</td>\n",
       "    </tr>\n",
       "    <tr>\n",
       "      <th>889369</th>\n",
       "      <td>7721DS</td>\n",
       "      <td>20.0</td>\n",
       "      <td>NaN</td>\n",
       "      <td>1973.0</td>\n",
       "      <td>Twee/één kapwoning</td>\n",
       "      <td>D</td>\n",
       "    </tr>\n",
       "    <tr>\n",
       "      <th>3488506</th>\n",
       "      <td>1871EN</td>\n",
       "      <td>182.0</td>\n",
       "      <td>NaN</td>\n",
       "      <td>1920.0</td>\n",
       "      <td>Vrijstaande woning</td>\n",
       "      <td>G</td>\n",
       "    </tr>\n",
       "    <tr>\n",
       "      <th>2335957</th>\n",
       "      <td>3818PL</td>\n",
       "      <td>95.0</td>\n",
       "      <td>B</td>\n",
       "      <td>2013.0</td>\n",
       "      <td>Flat/appartement</td>\n",
       "      <td>A</td>\n",
       "    </tr>\n",
       "    <tr>\n",
       "      <th>5774001</th>\n",
       "      <td>3112JL</td>\n",
       "      <td>45.0</td>\n",
       "      <td>A</td>\n",
       "      <td>1933.0</td>\n",
       "      <td>Flat/appartement</td>\n",
       "      <td>G</td>\n",
       "    </tr>\n",
       "    <tr>\n",
       "      <th>6716627</th>\n",
       "      <td>5612AH</td>\n",
       "      <td>31.0</td>\n",
       "      <td>05</td>\n",
       "      <td>1991.0</td>\n",
       "      <td>Niet wonen</td>\n",
       "      <td>NaN</td>\n",
       "    </tr>\n",
       "    <tr>\n",
       "      <th>6797198</th>\n",
       "      <td>5296NV</td>\n",
       "      <td>6.0</td>\n",
       "      <td>A</td>\n",
       "      <td>2013.0</td>\n",
       "      <td>Vrijstaande woning</td>\n",
       "      <td>A</td>\n",
       "    </tr>\n",
       "    <tr>\n",
       "      <th>7793539</th>\n",
       "      <td>5913DE</td>\n",
       "      <td>9.0</td>\n",
       "      <td>NaN</td>\n",
       "      <td>1996.0</td>\n",
       "      <td>Twee/één kapwoning</td>\n",
       "      <td>B</td>\n",
       "    </tr>\n",
       "    <tr>\n",
       "      <th>6036282</th>\n",
       "      <td>2723BR</td>\n",
       "      <td>34.0</td>\n",
       "      <td>NaN</td>\n",
       "      <td>1977.0</td>\n",
       "      <td>Maisonnette</td>\n",
       "      <td>B</td>\n",
       "    </tr>\n",
       "    <tr>\n",
       "      <th>6332109</th>\n",
       "      <td>3645HP</td>\n",
       "      <td>26.0</td>\n",
       "      <td>NaN</td>\n",
       "      <td>2006.0</td>\n",
       "      <td>Twee/één kapwoning</td>\n",
       "      <td>A</td>\n",
       "    </tr>\n",
       "    <tr>\n",
       "      <th>5550925</th>\n",
       "      <td>3076AV</td>\n",
       "      <td>8.0</td>\n",
       "      <td>NaN</td>\n",
       "      <td>1962.0</td>\n",
       "      <td>Flat/appartement</td>\n",
       "      <td>E</td>\n",
       "    </tr>\n",
       "    <tr>\n",
       "      <th>2808869</th>\n",
       "      <td>3431XD</td>\n",
       "      <td>7.0</td>\n",
       "      <td>NaN</td>\n",
       "      <td>1981.0</td>\n",
       "      <td>Rijwoning tussen</td>\n",
       "      <td>C</td>\n",
       "    </tr>\n",
       "  </tbody>\n",
       "</table>\n",
       "</div>"
      ],
      "text/plain": [
       "        POSTCODE_WONING HUISNUMMER_WONING HUISNUMMER_TOEV_WONING  \\\n",
       "6893868          5237LK              10.0                    NaN   \n",
       "8250923          4301HE              26.0                    NaN   \n",
       "5649658          3011TA             688.0                    NaN   \n",
       "7173890          5044HR               8.0                    NaN   \n",
       "7383980          5142BB               9.0                    NaN   \n",
       "2456024          3603AK              17.0                    NaN   \n",
       "3752463          2131XE              16.0                    NaN   \n",
       "1224836          8111AZ             327.0                    NaN   \n",
       "1592372          4033AK               2.0                    NaN   \n",
       "7648843          6226BC             163.0                    NaN   \n",
       "2283515          3818WB              39.0                      E   \n",
       "856616           7608RR              22.0                    NaN   \n",
       "581497           8431MB             501.0                    NaN   \n",
       "5347782          2983GW              90.0                    NaN   \n",
       "1664542          6921ZJ              36.0                    NaN   \n",
       "2023061          6862VK              10.0                    NaN   \n",
       "6758012          4931DL              22.0                    NaN   \n",
       "5443057          3071KG              96.0                      D   \n",
       "6164956          8551PJ              30.0                    NaN   \n",
       "889369           7721DS              20.0                    NaN   \n",
       "3488506          1871EN             182.0                    NaN   \n",
       "2335957          3818PL              95.0                      B   \n",
       "5774001          3112JL              45.0                      A   \n",
       "6716627          5612AH              31.0                     05   \n",
       "6797198          5296NV               6.0                      A   \n",
       "7793539          5913DE               9.0                    NaN   \n",
       "6036282          2723BR              34.0                    NaN   \n",
       "6332109          3645HP              26.0                    NaN   \n",
       "5550925          3076AV               8.0                    NaN   \n",
       "2808869          3431XD               7.0                    NaN   \n",
       "\n",
       "        BOUWJAAR_WONING         WONING_TYPE VOORL_BEREKEND  \n",
       "6893868          1991.0  Twee/één kapwoning              C  \n",
       "8250923          1920.0    Flat/appartement              G  \n",
       "5649658          2006.0    Flat/appartement              A  \n",
       "7173890          1973.0          Niet wonen            NaN  \n",
       "7383980          1966.0    Rijwoning tussen              C  \n",
       "2456024          1906.0      Rijwoning hoek              G  \n",
       "3752463          1910.0  Vrijstaande woning              G  \n",
       "1224836          1991.0    Flat/appartement              C  \n",
       "1592372          1990.0  Vrijstaande woning              B  \n",
       "7648843          1936.0      Rijwoning hoek              G  \n",
       "2283515          1925.0    Flat/appartement              G  \n",
       "856616           1986.0      Rijwoning hoek              C  \n",
       "581497           1971.0    Flat/appartement              E  \n",
       "5347782          2018.0    Flat/appartement              A  \n",
       "1664542          1967.0  Twee/één kapwoning              D  \n",
       "2023061          1976.0  Vrijstaande woning              C  \n",
       "6758012          2007.0    Rijwoning tussen              A  \n",
       "5443057          1990.0    Flat/appartement              C  \n",
       "6164956          1840.0          Niet wonen            NaN  \n",
       "889369           1973.0  Twee/één kapwoning              D  \n",
       "3488506          1920.0  Vrijstaande woning              G  \n",
       "2335957          2013.0    Flat/appartement              A  \n",
       "5774001          1933.0    Flat/appartement              G  \n",
       "6716627          1991.0          Niet wonen            NaN  \n",
       "6797198          2013.0  Vrijstaande woning              A  \n",
       "7793539          1996.0  Twee/één kapwoning              B  \n",
       "6036282          1977.0         Maisonnette              B  \n",
       "6332109          2006.0  Twee/één kapwoning              A  \n",
       "5550925          1962.0    Flat/appartement              E  \n",
       "2808869          1981.0    Rijwoning tussen              C  "
      ]
     },
     "execution_count": 15,
     "metadata": {},
     "output_type": "execute_result"
    }
   ],
   "source": [
    "insulation_input.sample(30)"
   ]
  },
  {
   "cell_type": "code",
   "execution_count": 16,
   "metadata": {},
   "outputs": [
    {
     "data": {
      "text/plain": [
       "array(['Flat/appartement', 'Niet wonen', 'Vrijstaande woning',\n",
       "       'Rijwoning hoek', 'Rijwoning tussen', 'Twee/één kapwoning',\n",
       "       'Specifiek object', 'Maisonnette', 'WONING_TYPE'], dtype=object)"
      ]
     },
     "execution_count": 16,
     "metadata": {},
     "output_type": "execute_result"
    }
   ],
   "source": [
    "insulation_input.WONING_TYPE.unique()"
   ]
  },
  {
   "cell_type": "code",
   "execution_count": 17,
   "metadata": {},
   "outputs": [
    {
     "data": {
      "text/plain": [
       "C                 2283250\n",
       "A                 1314314\n",
       "G                 1197749\n",
       "B                 1169030\n",
       "E                 1096641\n",
       "F                  762379\n",
       "D                  494185\n",
       "VOORL_BEREKEND          8\n",
       "Name: VOORL_BEREKEND, dtype: int64"
      ]
     },
     "execution_count": 17,
     "metadata": {},
     "output_type": "execute_result"
    }
   ],
   "source": [
    "insulation_input.VOORL_BEREKEND.value_counts()"
   ]
  },
  {
   "cell_type": "code",
   "execution_count": 18,
   "metadata": {
    "scrolled": true
   },
   "outputs": [
    {
     "data": {
      "text/plain": [
       "<matplotlib.axes._subplots.AxesSubplot at 0x7fdf83667f60>"
      ]
     },
     "execution_count": 18,
     "metadata": {},
     "output_type": "execute_result"
    },
    {
     "data": {
      "image/png": "[encoded data removed]",
      "text/plain": [
       "<matplotlib.figure.Figure at 0x7fdf83693940>"
      ]
     },
     "metadata": {},
     "output_type": "display_data"
    }
   ],
   "source": [
    "insulation_input.VOORL_BEREKEND.value_counts().reindex(['A', 'B', 'C', 'D', 'E', 'F', 'G']).plot(kind = 'bar')"
   ]
  },
  {
   "cell_type": "markdown",
   "metadata": {},
   "source": [
    "# 4. Cleaning the data"
   ]
  },
  {
   "cell_type": "markdown",
   "metadata": {},
   "source": [
    "Checking whether the headers of the sheets are still in the dataset, if yes, we remove them."
   ]
  },
  {
   "cell_type": "code",
   "execution_count": 19,
   "metadata": {
    "scrolled": true
   },
   "outputs": [
    {
     "data": {
      "text/html": [
       "<div>\n",
       "<style scoped>\n",
       "    .dataframe tbody tr th:only-of-type {\n",
       "        vertical-align: middle;\n",
       "    }\n",
       "\n",
       "    .dataframe tbody tr th {\n",
       "        vertical-align: top;\n",
       "    }\n",
       "\n",
       "    .dataframe thead th {\n",
       "        text-align: right;\n",
       "    }\n",
       "</style>\n",
       "<table border=\"1\" class=\"dataframe\">\n",
       "  <thead>\n",
       "    <tr style=\"text-align: right;\">\n",
       "      <th></th>\n",
       "      <th>POSTCODE_WONING</th>\n",
       "      <th>HUISNUMMER_WONING</th>\n",
       "      <th>HUISNUMMER_TOEV_WONING</th>\n",
       "      <th>BOUWJAAR_WONING</th>\n",
       "      <th>WONING_TYPE</th>\n",
       "      <th>VOORL_BEREKEND</th>\n",
       "    </tr>\n",
       "  </thead>\n",
       "  <tbody>\n",
       "  </tbody>\n",
       "</table>\n",
       "</div>"
      ],
      "text/plain": [
       "Empty DataFrame\n",
       "Columns: [POSTCODE_WONING, HUISNUMMER_WONING, HUISNUMMER_TOEV_WONING, BOUWJAAR_WONING, WONING_TYPE, VOORL_BEREKEND]\n",
       "Index: []"
      ]
     },
     "execution_count": 19,
     "metadata": {},
     "output_type": "execute_result"
    }
   ],
   "source": [
    "insulation_1 = insulation_input[insulation_input.POSTCODE_WONING != 'POSTCODE_WONING']\n",
    "insulation_1[insulation_1.POSTCODE_WONING == 'POSTCODE_WONING'] "
   ]
  },
  {
   "cell_type": "markdown",
   "metadata": {},
   "source": [
    "### Missing data percentage list"
   ]
  },
  {
   "cell_type": "code",
   "execution_count": 20,
   "metadata": {
    "scrolled": true
   },
   "outputs": [
    {
     "name": "stdout",
     "output_type": "stream",
     "text": [
      "POSTCODE_WONING - 0.0%\n",
      "HUISNUMMER_WONING - 0.0%\n",
      "HUISNUMMER_TOEV_WONING - 83.0%\n",
      "BOUWJAAR_WONING - 0.0%\n",
      "WONING_TYPE - 0.0%\n",
      "VOORL_BEREKEND - 8.0%\n"
     ]
    }
   ],
   "source": [
    "for col in insulation_1.columns: # iterate over columns\n",
    "    p_missing = np.mean(insulation_1[col].isnull()) # returns how many values in columns are NA on average\n",
    "    print('{} - {}%'.format(col, round(p_missing*100))) # prints in readable format"
   ]
  },
  {
   "cell_type": "markdown",
   "metadata": {},
   "source": [
    "No missing values encountered in the entries, only in labels."
   ]
  },
  {
   "cell_type": "markdown",
   "metadata": {},
   "source": [
    "### POSTCODE_WONING"
   ]
  },
  {
   "cell_type": "markdown",
   "metadata": {},
   "source": [
    "Checking if all postcodes are in the same format:"
   ]
  },
  {
   "cell_type": "code",
   "execution_count": 21,
   "metadata": {},
   "outputs": [
    {
     "data": {
      "text/plain": [
       "True    9070189\n",
       "Name: POSTCODE_WONING, dtype: int64"
      ]
     },
     "execution_count": 21,
     "metadata": {},
     "output_type": "execute_result"
    }
   ],
   "source": [
    "insulation_1.POSTCODE_WONING.str[4:6].str.isalpha().value_counts() # count all entries where the string ends with two letters "
   ]
  },
  {
   "cell_type": "code",
   "execution_count": 22,
   "metadata": {},
   "outputs": [
    {
     "data": {
      "text/plain": [
       "True    9070189\n",
       "Name: POSTCODE_WONING, dtype: int64"
      ]
     },
     "execution_count": 22,
     "metadata": {},
     "output_type": "execute_result"
    }
   ],
   "source": [
    "insulation_1.POSTCODE_WONING.str[:4].str.isdigit().value_counts()"
   ]
  },
  {
   "cell_type": "markdown",
   "metadata": {},
   "source": [
    "All POSTCODE_WONING entries start with 4 digits and end with 2 letters."
   ]
  },
  {
   "cell_type": "markdown",
   "metadata": {},
   "source": [
    "### WONING_TYPE"
   ]
  },
  {
   "cell_type": "code",
   "execution_count": 23,
   "metadata": {},
   "outputs": [
    {
     "data": {
      "text/plain": [
       "Flat/appartement      2857292\n",
       "Rijwoning tussen      2027146\n",
       "Vrijstaande woning    1273558\n",
       "Twee/één kapwoning     953481\n",
       "Rijwoning hoek         948928\n",
       "Niet wonen             942270\n",
       "Maisonnette             60662\n",
       "Specifiek object         6852\n",
       "Name: WONING_TYPE, dtype: int64"
      ]
     },
     "execution_count": 23,
     "metadata": {},
     "output_type": "execute_result"
    }
   ],
   "source": [
    "insulation_1.WONING_TYPE.value_counts()"
   ]
  },
  {
   "cell_type": "markdown",
   "metadata": {},
   "source": [
    "We want to exclude the objects that are not intended for living."
   ]
  },
  {
   "cell_type": "code",
   "execution_count": 24,
   "metadata": {
    "collapsed": true
   },
   "outputs": [],
   "source": [
    "insulation_2 = insulation_1[insulation_1.WONING_TYPE != 'Niet wonen']"
   ]
  },
  {
   "cell_type": "code",
   "execution_count": 25,
   "metadata": {},
   "outputs": [
    {
     "data": {
      "text/plain": [
       "Flat/appartement      2857292\n",
       "Rijwoning tussen      2027146\n",
       "Vrijstaande woning    1273558\n",
       "Twee/één kapwoning     953481\n",
       "Rijwoning hoek         948928\n",
       "Maisonnette             60662\n",
       "Specifiek object         6852\n",
       "Name: WONING_TYPE, dtype: int64"
      ]
     },
     "execution_count": 25,
     "metadata": {},
     "output_type": "execute_result"
    }
   ],
   "source": [
    "insulation_2.WONING_TYPE.value_counts()"
   ]
  },
  {
   "cell_type": "markdown",
   "metadata": {},
   "source": [
    "### BOUWJAAR_WONING"
   ]
  },
  {
   "cell_type": "code",
   "execution_count": 26,
   "metadata": {},
   "outputs": [
    {
     "data": {
      "text/plain": [
       "dtype('O')"
      ]
     },
     "execution_count": 26,
     "metadata": {},
     "output_type": "execute_result"
    }
   ],
   "source": [
    "insulation_2.BOUWJAAR_WONING.dtypes"
   ]
  },
  {
   "cell_type": "code",
   "execution_count": 27,
   "metadata": {},
   "outputs": [
    {
     "name": "stderr",
     "output_type": "stream",
     "text": [
      "/Users/jaromirbogdanovski/anaconda3/lib/python3.6/site-packages/ipykernel_launcher.py:2: SettingWithCopyWarning: \n",
      "A value is trying to be set on a copy of a slice from a DataFrame.\n",
      "Try using .loc[row_indexer,col_indexer] = value instead\n",
      "\n",
      "See the caveats in the documentation: https://pandas.pydata.org/pandas-docs/stable/user_guide/indexing.html#returning-a-view-versus-a-copy\n",
      "  \n"
     ]
    }
   ],
   "source": [
    "# column to numeric\n",
    "insulation_2['BOUWJAAR_WONING_fl'] = insulation_2.BOUWJAAR_WONING.apply(pd.to_numeric, errors = 'ignore')"
   ]
  },
  {
   "cell_type": "markdown",
   "metadata": {},
   "source": [
    "Checking for outliers in the building years:"
   ]
  },
  {
   "cell_type": "code",
   "execution_count": 28,
   "metadata": {
    "scrolled": true
   },
   "outputs": [
    {
     "data": {
      "text/plain": [
       "<matplotlib.axes._subplots.AxesSubplot at 0x7fdf2130c358>"
      ]
     },
     "execution_count": 28,
     "metadata": {},
     "output_type": "execute_result"
    },
    {
     "data": {
      "image/png": "[encoded data removed]",
      "text/plain": [
       "<matplotlib.figure.Figure at 0x7fdf212f3c18>"
      ]
     },
     "metadata": {},
     "output_type": "display_data"
    }
   ],
   "source": [
    "insulation_2.boxplot(column = 'BOUWJAAR_WONING_fl')"
   ]
  },
  {
   "cell_type": "markdown",
   "metadata": {},
   "source": [
    "There seem to be outliers around 10,000. Lets inspect these:"
   ]
  },
  {
   "cell_type": "code",
   "execution_count": 29,
   "metadata": {},
   "outputs": [
    {
     "data": {
      "text/html": [
       "<div>\n",
       "<style scoped>\n",
       "    .dataframe tbody tr th:only-of-type {\n",
       "        vertical-align: middle;\n",
       "    }\n",
       "\n",
       "    .dataframe tbody tr th {\n",
       "        vertical-align: top;\n",
       "    }\n",
       "\n",
       "    .dataframe thead th {\n",
       "        text-align: right;\n",
       "    }\n",
       "</style>\n",
       "<table border=\"1\" class=\"dataframe\">\n",
       "  <thead>\n",
       "    <tr style=\"text-align: right;\">\n",
       "      <th></th>\n",
       "      <th>POSTCODE_WONING</th>\n",
       "      <th>HUISNUMMER_WONING</th>\n",
       "      <th>HUISNUMMER_TOEV_WONING</th>\n",
       "      <th>BOUWJAAR_WONING</th>\n",
       "      <th>WONING_TYPE</th>\n",
       "      <th>VOORL_BEREKEND</th>\n",
       "      <th>BOUWJAAR_WONING_fl</th>\n",
       "    </tr>\n",
       "  </thead>\n",
       "  <tbody>\n",
       "    <tr>\n",
       "      <th>7440412</th>\n",
       "      <td>4891AC</td>\n",
       "      <td>10.0</td>\n",
       "      <td>NaN</td>\n",
       "      <td>9999.0</td>\n",
       "      <td>Twee/één kapwoning</td>\n",
       "      <td>A</td>\n",
       "      <td>9999.0</td>\n",
       "    </tr>\n",
       "    <tr>\n",
       "      <th>7441314</th>\n",
       "      <td>4891PE</td>\n",
       "      <td>9.0</td>\n",
       "      <td>BUN1</td>\n",
       "      <td>9999.0</td>\n",
       "      <td>Vrijstaande woning</td>\n",
       "      <td>A</td>\n",
       "      <td>9999.0</td>\n",
       "    </tr>\n",
       "    <tr>\n",
       "      <th>8368860</th>\n",
       "      <td>7991AS</td>\n",
       "      <td>12.0</td>\n",
       "      <td>NaN</td>\n",
       "      <td>9999.0</td>\n",
       "      <td>Rijwoning tussen</td>\n",
       "      <td>A</td>\n",
       "      <td>9999.0</td>\n",
       "    </tr>\n",
       "    <tr>\n",
       "      <th>8373087</th>\n",
       "      <td>7991AK</td>\n",
       "      <td>4.0</td>\n",
       "      <td>NaN</td>\n",
       "      <td>9999.0</td>\n",
       "      <td>Vrijstaande woning</td>\n",
       "      <td>A</td>\n",
       "      <td>9999.0</td>\n",
       "    </tr>\n",
       "  </tbody>\n",
       "</table>\n",
       "</div>"
      ],
      "text/plain": [
       "        POSTCODE_WONING HUISNUMMER_WONING HUISNUMMER_TOEV_WONING  \\\n",
       "7440412          4891AC              10.0                    NaN   \n",
       "7441314          4891PE               9.0                   BUN1   \n",
       "8368860          7991AS              12.0                    NaN   \n",
       "8373087          7991AK               4.0                    NaN   \n",
       "\n",
       "        BOUWJAAR_WONING         WONING_TYPE VOORL_BEREKEND  BOUWJAAR_WONING_fl  \n",
       "7440412          9999.0  Twee/één kapwoning              A              9999.0  \n",
       "7441314          9999.0  Vrijstaande woning              A              9999.0  \n",
       "8368860          9999.0    Rijwoning tussen              A              9999.0  \n",
       "8373087          9999.0  Vrijstaande woning              A              9999.0  "
      ]
     },
     "execution_count": 29,
     "metadata": {},
     "output_type": "execute_result"
    }
   ],
   "source": [
    "insulation_2[insulation_2.BOUWJAAR_WONING_fl > 2021]"
   ]
  },
  {
   "cell_type": "markdown",
   "metadata": {},
   "source": [
    "As there are just a few cases where the building year exceeds the current date, we choose to exclude them from the dataset. Then we inspect again with a boxplot."
   ]
  },
  {
   "cell_type": "code",
   "execution_count": 30,
   "metadata": {
    "collapsed": true
   },
   "outputs": [],
   "source": [
    "insulation_3 = insulation_2[insulation_2.BOUWJAAR_WONING_fl < 2021]"
   ]
  },
  {
   "cell_type": "code",
   "execution_count": 31,
   "metadata": {
    "scrolled": true
   },
   "outputs": [
    {
     "data": {
      "text/plain": [
       "<matplotlib.axes._subplots.AxesSubplot at 0x7fdf81ce2860>"
      ]
     },
     "execution_count": 31,
     "metadata": {},
     "output_type": "execute_result"
    },
    {
     "data": {
      "image/png": "[encoded data removed]",
      "text/plain": [
       "<matplotlib.figure.Figure at 0x7fdedfc19400>"
      ]
     },
     "metadata": {},
     "output_type": "display_data"
    }
   ],
   "source": [
    "insulation_3.boxplot(column = 'BOUWJAAR_WONING_fl')"
   ]
  },
  {
   "cell_type": "code",
   "execution_count": 32,
   "metadata": {
    "scrolled": true
   },
   "outputs": [
    {
     "data": {
      "text/plain": [
       "<matplotlib.axes._subplots.AxesSubplot at 0x7fdf8245ec18>"
      ]
     },
     "execution_count": 32,
     "metadata": {},
     "output_type": "execute_result"
    },
    {
     "data": {
      "image/png": "[encoded data removed]",
      "text/plain": [
       "<matplotlib.figure.Figure at 0x7fdf81d44358>"
      ]
     },
     "metadata": {},
     "output_type": "display_data"
    }
   ],
   "source": [
    "insulation_3.BOUWJAAR_WONING_fl.plot.hist(bins=50)"
   ]
  },
  {
   "cell_type": "markdown",
   "metadata": {},
   "source": [
    "We see that most of the houses are built from the late 1900's onward, which is plausible. But we still have a few cases around the year 1000. Lets inspect these further:"
   ]
  },
  {
   "cell_type": "code",
   "execution_count": 33,
   "metadata": {},
   "outputs": [
    {
     "data": {
      "text/html": [
       "<div>\n",
       "<style scoped>\n",
       "    .dataframe tbody tr th:only-of-type {\n",
       "        vertical-align: middle;\n",
       "    }\n",
       "\n",
       "    .dataframe tbody tr th {\n",
       "        vertical-align: top;\n",
       "    }\n",
       "\n",
       "    .dataframe thead th {\n",
       "        text-align: right;\n",
       "    }\n",
       "</style>\n",
       "<table border=\"1\" class=\"dataframe\">\n",
       "  <thead>\n",
       "    <tr style=\"text-align: right;\">\n",
       "      <th></th>\n",
       "      <th>POSTCODE_WONING</th>\n",
       "      <th>HUISNUMMER_WONING</th>\n",
       "      <th>HUISNUMMER_TOEV_WONING</th>\n",
       "      <th>BOUWJAAR_WONING</th>\n",
       "      <th>WONING_TYPE</th>\n",
       "      <th>VOORL_BEREKEND</th>\n",
       "      <th>BOUWJAAR_WONING_fl</th>\n",
       "    </tr>\n",
       "  </thead>\n",
       "  <tbody>\n",
       "    <tr>\n",
       "      <th>5374</th>\n",
       "      <td>9901TP</td>\n",
       "      <td>12.0</td>\n",
       "      <td>NaN</td>\n",
       "      <td>1150.0</td>\n",
       "      <td>Vrijstaande woning</td>\n",
       "      <td>G</td>\n",
       "      <td>1150.0</td>\n",
       "    </tr>\n",
       "    <tr>\n",
       "      <th>28912</th>\n",
       "      <td>9905RL</td>\n",
       "      <td>1.0</td>\n",
       "      <td>NaN</td>\n",
       "      <td>1100.0</td>\n",
       "      <td>Vrijstaande woning</td>\n",
       "      <td>G</td>\n",
       "      <td>1100.0</td>\n",
       "    </tr>\n",
       "    <tr>\n",
       "      <th>149499</th>\n",
       "      <td>9861AS</td>\n",
       "      <td>6.0</td>\n",
       "      <td>NaN</td>\n",
       "      <td>1100.0</td>\n",
       "      <td>Vrijstaande woning</td>\n",
       "      <td>G</td>\n",
       "      <td>1100.0</td>\n",
       "    </tr>\n",
       "    <tr>\n",
       "      <th>900136</th>\n",
       "      <td>7411KS</td>\n",
       "      <td>8.0</td>\n",
       "      <td>NaN</td>\n",
       "      <td>1130.0</td>\n",
       "      <td>Rijwoning tussen</td>\n",
       "      <td>F</td>\n",
       "      <td>1130.0</td>\n",
       "    </tr>\n",
       "    <tr>\n",
       "      <th>2526328</th>\n",
       "      <td>3525XL</td>\n",
       "      <td>34.0</td>\n",
       "      <td>1</td>\n",
       "      <td>157.0</td>\n",
       "      <td>Flat/appartement</td>\n",
       "      <td>G</td>\n",
       "      <td>157.0</td>\n",
       "    </tr>\n",
       "    <tr>\n",
       "      <th>...</th>\n",
       "      <td>...</td>\n",
       "      <td>...</td>\n",
       "      <td>...</td>\n",
       "      <td>...</td>\n",
       "      <td>...</td>\n",
       "      <td>...</td>\n",
       "      <td>...</td>\n",
       "    </tr>\n",
       "    <tr>\n",
       "      <th>8811953</th>\n",
       "      <td>6166EK</td>\n",
       "      <td>8.0</td>\n",
       "      <td>X</td>\n",
       "      <td>1183.0</td>\n",
       "      <td>Flat/appartement</td>\n",
       "      <td>G</td>\n",
       "      <td>1183.0</td>\n",
       "    </tr>\n",
       "    <tr>\n",
       "      <th>8811954</th>\n",
       "      <td>6166EK</td>\n",
       "      <td>8.0</td>\n",
       "      <td>XI</td>\n",
       "      <td>1183.0</td>\n",
       "      <td>Flat/appartement</td>\n",
       "      <td>G</td>\n",
       "      <td>1183.0</td>\n",
       "    </tr>\n",
       "    <tr>\n",
       "      <th>8811955</th>\n",
       "      <td>6166EK</td>\n",
       "      <td>8.0</td>\n",
       "      <td>XII</td>\n",
       "      <td>1183.0</td>\n",
       "      <td>Flat/appartement</td>\n",
       "      <td>G</td>\n",
       "      <td>1183.0</td>\n",
       "    </tr>\n",
       "    <tr>\n",
       "      <th>8811956</th>\n",
       "      <td>6166EK</td>\n",
       "      <td>8.0</td>\n",
       "      <td>XIII</td>\n",
       "      <td>1183.0</td>\n",
       "      <td>Flat/appartement</td>\n",
       "      <td>G</td>\n",
       "      <td>1183.0</td>\n",
       "    </tr>\n",
       "    <tr>\n",
       "      <th>8811957</th>\n",
       "      <td>6166EK</td>\n",
       "      <td>8.0</td>\n",
       "      <td>XIV</td>\n",
       "      <td>1183.0</td>\n",
       "      <td>Flat/appartement</td>\n",
       "      <td>G</td>\n",
       "      <td>1183.0</td>\n",
       "    </tr>\n",
       "  </tbody>\n",
       "</table>\n",
       "<p>19108 rows × 7 columns</p>\n",
       "</div>"
      ],
      "text/plain": [
       "        POSTCODE_WONING HUISNUMMER_WONING HUISNUMMER_TOEV_WONING  \\\n",
       "5374             9901TP              12.0                    NaN   \n",
       "28912            9905RL               1.0                    NaN   \n",
       "149499           9861AS               6.0                    NaN   \n",
       "900136           7411KS               8.0                    NaN   \n",
       "2526328          3525XL              34.0                      1   \n",
       "...                 ...               ...                    ...   \n",
       "8811953          6166EK               8.0                      X   \n",
       "8811954          6166EK               8.0                     XI   \n",
       "8811955          6166EK               8.0                    XII   \n",
       "8811956          6166EK               8.0                   XIII   \n",
       "8811957          6166EK               8.0                    XIV   \n",
       "\n",
       "        BOUWJAAR_WONING         WONING_TYPE VOORL_BEREKEND  BOUWJAAR_WONING_fl  \n",
       "5374             1150.0  Vrijstaande woning              G              1150.0  \n",
       "28912            1100.0  Vrijstaande woning              G              1100.0  \n",
       "149499           1100.0  Vrijstaande woning              G              1100.0  \n",
       "900136           1130.0    Rijwoning tussen              F              1130.0  \n",
       "2526328           157.0    Flat/appartement              G               157.0  \n",
       "...                 ...                 ...            ...                 ...  \n",
       "8811953          1183.0    Flat/appartement              G              1183.0  \n",
       "8811954          1183.0    Flat/appartement              G              1183.0  \n",
       "8811955          1183.0    Flat/appartement              G              1183.0  \n",
       "8811956          1183.0    Flat/appartement              G              1183.0  \n",
       "8811957          1183.0    Flat/appartement              G              1183.0  \n",
       "\n",
       "[19108 rows x 7 columns]"
      ]
     },
     "execution_count": 33,
     "metadata": {},
     "output_type": "execute_result"
    }
   ],
   "source": [
    "pd.options.display.max_rows = 50\n",
    "insulation_3[insulation_3.BOUWJAAR_WONING_fl < 1200]"
   ]
  },
  {
   "cell_type": "code",
   "execution_count": 34,
   "metadata": {
    "scrolled": false
   },
   "outputs": [
    {
     "data": {
      "text/plain": [
       "<matplotlib.axes._subplots.AxesSubplot at 0x7fdf81d04278>"
      ]
     },
     "execution_count": 34,
     "metadata": {},
     "output_type": "execute_result"
    },
    {
     "data": {
      "image/png": "[encoded data removed]",
      "text/plain": [
       "<matplotlib.figure.Figure at 0x7fdf824fa828>"
      ]
     },
     "metadata": {},
     "output_type": "display_data"
    }
   ],
   "source": [
    "insulation_3.BOUWJAAR_WONING_fl[insulation_3.BOUWJAAR_WONING_fl < 1200].plot.hist(bins=50)"
   ]
  },
  {
   "cell_type": "markdown",
   "metadata": {},
   "source": [
    "There seems something odd with the dates of year built, but all other information seems to be present."
   ]
  },
  {
   "cell_type": "code",
   "execution_count": null,
   "metadata": {
    "collapsed": true
   },
   "outputs": [],
   "source": []
  },
  {
   "cell_type": "markdown",
   "metadata": {},
   "source": [
    "# 5. Transforming the data"
   ]
  },
  {
   "cell_type": "markdown",
   "metadata": {},
   "source": [
    "### adding 4 digit postal code column"
   ]
  },
  {
   "cell_type": "code",
   "execution_count": 35,
   "metadata": {},
   "outputs": [
    {
     "name": "stderr",
     "output_type": "stream",
     "text": [
      "/Users/jaromirbogdanovski/anaconda3/lib/python3.6/site-packages/ipykernel_launcher.py:1: SettingWithCopyWarning: \n",
      "A value is trying to be set on a copy of a slice from a DataFrame.\n",
      "Try using .loc[row_indexer,col_indexer] = value instead\n",
      "\n",
      "See the caveats in the documentation: https://pandas.pydata.org/pandas-docs/stable/user_guide/indexing.html#returning-a-view-versus-a-copy\n",
      "  \"\"\"Entry point for launching an IPython kernel.\n"
     ]
    },
    {
     "data": {
      "text/html": [
       "<div>\n",
       "<style scoped>\n",
       "    .dataframe tbody tr th:only-of-type {\n",
       "        vertical-align: middle;\n",
       "    }\n",
       "\n",
       "    .dataframe tbody tr th {\n",
       "        vertical-align: top;\n",
       "    }\n",
       "\n",
       "    .dataframe thead th {\n",
       "        text-align: right;\n",
       "    }\n",
       "</style>\n",
       "<table border=\"1\" class=\"dataframe\">\n",
       "  <thead>\n",
       "    <tr style=\"text-align: right;\">\n",
       "      <th></th>\n",
       "      <th>POSTCODE_WONING</th>\n",
       "      <th>HUISNUMMER_WONING</th>\n",
       "      <th>HUISNUMMER_TOEV_WONING</th>\n",
       "      <th>BOUWJAAR_WONING</th>\n",
       "      <th>WONING_TYPE</th>\n",
       "      <th>VOORL_BEREKEND</th>\n",
       "      <th>BOUWJAAR_WONING_fl</th>\n",
       "      <th>POSTCODE_DIGITS</th>\n",
       "    </tr>\n",
       "  </thead>\n",
       "  <tbody>\n",
       "    <tr>\n",
       "      <th>0</th>\n",
       "      <td>9901KB</td>\n",
       "      <td>16.0</td>\n",
       "      <td>NaN</td>\n",
       "      <td>2002.0</td>\n",
       "      <td>Flat/appartement</td>\n",
       "      <td>B</td>\n",
       "      <td>2002.0</td>\n",
       "      <td>9901</td>\n",
       "    </tr>\n",
       "    <tr>\n",
       "      <th>1</th>\n",
       "      <td>9901KB</td>\n",
       "      <td>20.0</td>\n",
       "      <td>NaN</td>\n",
       "      <td>2002.0</td>\n",
       "      <td>Flat/appartement</td>\n",
       "      <td>B</td>\n",
       "      <td>2002.0</td>\n",
       "      <td>9901</td>\n",
       "    </tr>\n",
       "    <tr>\n",
       "      <th>4</th>\n",
       "      <td>9901AD</td>\n",
       "      <td>15.0</td>\n",
       "      <td>NaN</td>\n",
       "      <td>1925.0</td>\n",
       "      <td>Vrijstaande woning</td>\n",
       "      <td>G</td>\n",
       "      <td>1925.0</td>\n",
       "      <td>9901</td>\n",
       "    </tr>\n",
       "    <tr>\n",
       "      <th>5</th>\n",
       "      <td>9901AD</td>\n",
       "      <td>6.0</td>\n",
       "      <td>NaN</td>\n",
       "      <td>1950.0</td>\n",
       "      <td>Flat/appartement</td>\n",
       "      <td>E</td>\n",
       "      <td>1950.0</td>\n",
       "      <td>9901</td>\n",
       "    </tr>\n",
       "    <tr>\n",
       "      <th>7</th>\n",
       "      <td>9901AD</td>\n",
       "      <td>10.0</td>\n",
       "      <td>A</td>\n",
       "      <td>1930.0</td>\n",
       "      <td>Flat/appartement</td>\n",
       "      <td>G</td>\n",
       "      <td>1930.0</td>\n",
       "      <td>9901</td>\n",
       "    </tr>\n",
       "    <tr>\n",
       "      <th>...</th>\n",
       "      <td>...</td>\n",
       "      <td>...</td>\n",
       "      <td>...</td>\n",
       "      <td>...</td>\n",
       "      <td>...</td>\n",
       "      <td>...</td>\n",
       "      <td>...</td>\n",
       "      <td>...</td>\n",
       "    </tr>\n",
       "    <tr>\n",
       "      <th>9070192</th>\n",
       "      <td>1601EE</td>\n",
       "      <td>31.0</td>\n",
       "      <td>NaN</td>\n",
       "      <td>2016.0</td>\n",
       "      <td>Rijwoning hoek</td>\n",
       "      <td>A</td>\n",
       "      <td>2016.0</td>\n",
       "      <td>1601</td>\n",
       "    </tr>\n",
       "    <tr>\n",
       "      <th>9070193</th>\n",
       "      <td>1601AC</td>\n",
       "      <td>65.0</td>\n",
       "      <td>A</td>\n",
       "      <td>1659.0</td>\n",
       "      <td>Flat/appartement</td>\n",
       "      <td>G</td>\n",
       "      <td>1659.0</td>\n",
       "      <td>1601</td>\n",
       "    </tr>\n",
       "    <tr>\n",
       "      <th>9070194</th>\n",
       "      <td>1602CS</td>\n",
       "      <td>20.0</td>\n",
       "      <td>NaN</td>\n",
       "      <td>2017.0</td>\n",
       "      <td>Vrijstaande woning</td>\n",
       "      <td>A</td>\n",
       "      <td>2017.0</td>\n",
       "      <td>1602</td>\n",
       "    </tr>\n",
       "    <tr>\n",
       "      <th>9070195</th>\n",
       "      <td>1602CS</td>\n",
       "      <td>24.0</td>\n",
       "      <td>NaN</td>\n",
       "      <td>2017.0</td>\n",
       "      <td>Vrijstaande woning</td>\n",
       "      <td>A</td>\n",
       "      <td>2017.0</td>\n",
       "      <td>1602</td>\n",
       "    </tr>\n",
       "    <tr>\n",
       "      <th>9070196</th>\n",
       "      <td>1602CS</td>\n",
       "      <td>40.0</td>\n",
       "      <td>NaN</td>\n",
       "      <td>2017.0</td>\n",
       "      <td>Vrijstaande woning</td>\n",
       "      <td>A</td>\n",
       "      <td>2017.0</td>\n",
       "      <td>1602</td>\n",
       "    </tr>\n",
       "  </tbody>\n",
       "</table>\n",
       "<p>8127611 rows × 8 columns</p>\n",
       "</div>"
      ],
      "text/plain": [
       "        POSTCODE_WONING HUISNUMMER_WONING HUISNUMMER_TOEV_WONING  \\\n",
       "0                9901KB              16.0                    NaN   \n",
       "1                9901KB              20.0                    NaN   \n",
       "4                9901AD              15.0                    NaN   \n",
       "5                9901AD               6.0                    NaN   \n",
       "7                9901AD              10.0                      A   \n",
       "...                 ...               ...                    ...   \n",
       "9070192          1601EE              31.0                    NaN   \n",
       "9070193          1601AC              65.0                      A   \n",
       "9070194          1602CS              20.0                    NaN   \n",
       "9070195          1602CS              24.0                    NaN   \n",
       "9070196          1602CS              40.0                    NaN   \n",
       "\n",
       "        BOUWJAAR_WONING         WONING_TYPE VOORL_BEREKEND  \\\n",
       "0                2002.0    Flat/appartement              B   \n",
       "1                2002.0    Flat/appartement              B   \n",
       "4                1925.0  Vrijstaande woning              G   \n",
       "5                1950.0    Flat/appartement              E   \n",
       "7                1930.0    Flat/appartement              G   \n",
       "...                 ...                 ...            ...   \n",
       "9070192          2016.0      Rijwoning hoek              A   \n",
       "9070193          1659.0    Flat/appartement              G   \n",
       "9070194          2017.0  Vrijstaande woning              A   \n",
       "9070195          2017.0  Vrijstaande woning              A   \n",
       "9070196          2017.0  Vrijstaande woning              A   \n",
       "\n",
       "         BOUWJAAR_WONING_fl POSTCODE_DIGITS  \n",
       "0                    2002.0            9901  \n",
       "1                    2002.0            9901  \n",
       "4                    1925.0            9901  \n",
       "5                    1950.0            9901  \n",
       "7                    1930.0            9901  \n",
       "...                     ...             ...  \n",
       "9070192              2016.0            1601  \n",
       "9070193              1659.0            1601  \n",
       "9070194              2017.0            1602  \n",
       "9070195              2017.0            1602  \n",
       "9070196              2017.0            1602  \n",
       "\n",
       "[8127611 rows x 8 columns]"
      ]
     },
     "execution_count": 35,
     "metadata": {},
     "output_type": "execute_result"
    }
   ],
   "source": [
    "insulation_3['POSTCODE_DIGITS'] = insulation_3.POSTCODE_WONING.str[:4]\n",
    "insulation_3"
   ]
  },
  {
   "cell_type": "markdown",
   "metadata": {},
   "source": [
    "### adding low, medium high insulation column"
   ]
  },
  {
   "cell_type": "code",
   "execution_count": 36,
   "metadata": {
    "collapsed": true
   },
   "outputs": [],
   "source": [
    "# function that transforms the insulation label to low (1), medium (2) and high (3)\n",
    "\n",
    "def labeltrans(row):\n",
    "    if row['VOORL_BEREKEND'] == \"G\" or row['VOORL_BEREKEND'] == \"F\" or row['VOORL_BEREKEND'] == \"E\":\n",
    "        return 1\n",
    "    if row['VOORL_BEREKEND'] == \"D\" or row['VOORL_BEREKEND'] == \"C\" or row['VOORL_BEREKEND'] == \"B\":\n",
    "        return 2\n",
    "    if row['VOORL_BEREKEND'] == \"A\" or row['VOORL_BEREKEND'] == \"A+\" or row['VOORL_BEREKEND'] == \"A++\":\n",
    "        return 3\n",
    "    return 'Other'\n",
    "    "
   ]
  },
  {
   "cell_type": "code",
   "execution_count": 37,
   "metadata": {
    "collapsed": true
   },
   "outputs": [],
   "source": [
    "# function that transforms the insulation label to low (1), medium (2) and high (3)\n",
    "\n",
    "def labeltrans1(row):\n",
    "    if row['VOORL_BEREKEND'] == \"G\":\n",
    "        return 0\n",
    "    if row['VOORL_BEREKEND'] == \"F\":\n",
    "        return 1\n",
    "    if row['VOORL_BEREKEND'] == \"E\":\n",
    "        return 2\n",
    "    if row['VOORL_BEREKEND'] == \"D\":\n",
    "        return 3\n",
    "    if row['VOORL_BEREKEND'] == \"C\":\n",
    "        return 4\n",
    "    if row['VOORL_BEREKEND'] == \"B\":\n",
    "        return 5\n",
    "    if row['VOORL_BEREKEND'] == \"A\":\n",
    "        return 6\n",
    "    if row['VOORL_BEREKEND'] == \"A+\":\n",
    "        return 7\n",
    "    if row['VOORL_BEREKEND'] == \"A++\":\n",
    "        return 8\n",
    "    return 'Other'\n",
    "    "
   ]
  },
  {
   "cell_type": "code",
   "execution_count": null,
   "metadata": {
    "collapsed": true
   },
   "outputs": [],
   "source": []
  },
  {
   "cell_type": "code",
   "execution_count": 38,
   "metadata": {
    "scrolled": false
   },
   "outputs": [
    {
     "name": "stderr",
     "output_type": "stream",
     "text": [
      "/Users/jaromirbogdanovski/anaconda3/lib/python3.6/site-packages/ipykernel_launcher.py:2: SettingWithCopyWarning: \n",
      "A value is trying to be set on a copy of a slice from a DataFrame.\n",
      "Try using .loc[row_indexer,col_indexer] = value instead\n",
      "\n",
      "See the caveats in the documentation: https://pandas.pydata.org/pandas-docs/stable/user_guide/indexing.html#returning-a-view-versus-a-copy\n",
      "  \n"
     ]
    }
   ],
   "source": [
    "# applying the function and creating a new column \n",
    "insulation_3['LABELCAT'] = insulation_3.apply(lambda row: labeltrans1(row), axis=1)"
   ]
  },
  {
   "cell_type": "code",
   "execution_count": 39,
   "metadata": {
    "scrolled": true
   },
   "outputs": [
    {
     "data": {
      "text/html": [
       "<div>\n",
       "<style scoped>\n",
       "    .dataframe tbody tr th:only-of-type {\n",
       "        vertical-align: middle;\n",
       "    }\n",
       "\n",
       "    .dataframe tbody tr th {\n",
       "        vertical-align: top;\n",
       "    }\n",
       "\n",
       "    .dataframe thead th {\n",
       "        text-align: right;\n",
       "    }\n",
       "</style>\n",
       "<table border=\"1\" class=\"dataframe\">\n",
       "  <thead>\n",
       "    <tr style=\"text-align: right;\">\n",
       "      <th></th>\n",
       "      <th>POSTCODE_WONING</th>\n",
       "      <th>HUISNUMMER_WONING</th>\n",
       "      <th>HUISNUMMER_TOEV_WONING</th>\n",
       "      <th>BOUWJAAR_WONING</th>\n",
       "      <th>WONING_TYPE</th>\n",
       "      <th>VOORL_BEREKEND</th>\n",
       "      <th>BOUWJAAR_WONING_fl</th>\n",
       "      <th>POSTCODE_DIGITS</th>\n",
       "      <th>LABELCAT</th>\n",
       "    </tr>\n",
       "  </thead>\n",
       "  <tbody>\n",
       "    <tr>\n",
       "      <th>0</th>\n",
       "      <td>9901KB</td>\n",
       "      <td>16.0</td>\n",
       "      <td>NaN</td>\n",
       "      <td>2002.0</td>\n",
       "      <td>Flat/appartement</td>\n",
       "      <td>B</td>\n",
       "      <td>2002.0</td>\n",
       "      <td>9901</td>\n",
       "      <td>5</td>\n",
       "    </tr>\n",
       "    <tr>\n",
       "      <th>1</th>\n",
       "      <td>9901KB</td>\n",
       "      <td>20.0</td>\n",
       "      <td>NaN</td>\n",
       "      <td>2002.0</td>\n",
       "      <td>Flat/appartement</td>\n",
       "      <td>B</td>\n",
       "      <td>2002.0</td>\n",
       "      <td>9901</td>\n",
       "      <td>5</td>\n",
       "    </tr>\n",
       "    <tr>\n",
       "      <th>4</th>\n",
       "      <td>9901AD</td>\n",
       "      <td>15.0</td>\n",
       "      <td>NaN</td>\n",
       "      <td>1925.0</td>\n",
       "      <td>Vrijstaande woning</td>\n",
       "      <td>G</td>\n",
       "      <td>1925.0</td>\n",
       "      <td>9901</td>\n",
       "      <td>0</td>\n",
       "    </tr>\n",
       "    <tr>\n",
       "      <th>5</th>\n",
       "      <td>9901AD</td>\n",
       "      <td>6.0</td>\n",
       "      <td>NaN</td>\n",
       "      <td>1950.0</td>\n",
       "      <td>Flat/appartement</td>\n",
       "      <td>E</td>\n",
       "      <td>1950.0</td>\n",
       "      <td>9901</td>\n",
       "      <td>2</td>\n",
       "    </tr>\n",
       "    <tr>\n",
       "      <th>7</th>\n",
       "      <td>9901AD</td>\n",
       "      <td>10.0</td>\n",
       "      <td>A</td>\n",
       "      <td>1930.0</td>\n",
       "      <td>Flat/appartement</td>\n",
       "      <td>G</td>\n",
       "      <td>1930.0</td>\n",
       "      <td>9901</td>\n",
       "      <td>0</td>\n",
       "    </tr>\n",
       "    <tr>\n",
       "      <th>...</th>\n",
       "      <td>...</td>\n",
       "      <td>...</td>\n",
       "      <td>...</td>\n",
       "      <td>...</td>\n",
       "      <td>...</td>\n",
       "      <td>...</td>\n",
       "      <td>...</td>\n",
       "      <td>...</td>\n",
       "      <td>...</td>\n",
       "    </tr>\n",
       "    <tr>\n",
       "      <th>9070192</th>\n",
       "      <td>1601EE</td>\n",
       "      <td>31.0</td>\n",
       "      <td>NaN</td>\n",
       "      <td>2016.0</td>\n",
       "      <td>Rijwoning hoek</td>\n",
       "      <td>A</td>\n",
       "      <td>2016.0</td>\n",
       "      <td>1601</td>\n",
       "      <td>6</td>\n",
       "    </tr>\n",
       "    <tr>\n",
       "      <th>9070193</th>\n",
       "      <td>1601AC</td>\n",
       "      <td>65.0</td>\n",
       "      <td>A</td>\n",
       "      <td>1659.0</td>\n",
       "      <td>Flat/appartement</td>\n",
       "      <td>G</td>\n",
       "      <td>1659.0</td>\n",
       "      <td>1601</td>\n",
       "      <td>0</td>\n",
       "    </tr>\n",
       "    <tr>\n",
       "      <th>9070194</th>\n",
       "      <td>1602CS</td>\n",
       "      <td>20.0</td>\n",
       "      <td>NaN</td>\n",
       "      <td>2017.0</td>\n",
       "      <td>Vrijstaande woning</td>\n",
       "      <td>A</td>\n",
       "      <td>2017.0</td>\n",
       "      <td>1602</td>\n",
       "      <td>6</td>\n",
       "    </tr>\n",
       "    <tr>\n",
       "      <th>9070195</th>\n",
       "      <td>1602CS</td>\n",
       "      <td>24.0</td>\n",
       "      <td>NaN</td>\n",
       "      <td>2017.0</td>\n",
       "      <td>Vrijstaande woning</td>\n",
       "      <td>A</td>\n",
       "      <td>2017.0</td>\n",
       "      <td>1602</td>\n",
       "      <td>6</td>\n",
       "    </tr>\n",
       "    <tr>\n",
       "      <th>9070196</th>\n",
       "      <td>1602CS</td>\n",
       "      <td>40.0</td>\n",
       "      <td>NaN</td>\n",
       "      <td>2017.0</td>\n",
       "      <td>Vrijstaande woning</td>\n",
       "      <td>A</td>\n",
       "      <td>2017.0</td>\n",
       "      <td>1602</td>\n",
       "      <td>6</td>\n",
       "    </tr>\n",
       "  </tbody>\n",
       "</table>\n",
       "<p>8127611 rows × 9 columns</p>\n",
       "</div>"
      ],
      "text/plain": [
       "        POSTCODE_WONING HUISNUMMER_WONING HUISNUMMER_TOEV_WONING  \\\n",
       "0                9901KB              16.0                    NaN   \n",
       "1                9901KB              20.0                    NaN   \n",
       "4                9901AD              15.0                    NaN   \n",
       "5                9901AD               6.0                    NaN   \n",
       "7                9901AD              10.0                      A   \n",
       "...                 ...               ...                    ...   \n",
       "9070192          1601EE              31.0                    NaN   \n",
       "9070193          1601AC              65.0                      A   \n",
       "9070194          1602CS              20.0                    NaN   \n",
       "9070195          1602CS              24.0                    NaN   \n",
       "9070196          1602CS              40.0                    NaN   \n",
       "\n",
       "        BOUWJAAR_WONING         WONING_TYPE VOORL_BEREKEND  \\\n",
       "0                2002.0    Flat/appartement              B   \n",
       "1                2002.0    Flat/appartement              B   \n",
       "4                1925.0  Vrijstaande woning              G   \n",
       "5                1950.0    Flat/appartement              E   \n",
       "7                1930.0    Flat/appartement              G   \n",
       "...                 ...                 ...            ...   \n",
       "9070192          2016.0      Rijwoning hoek              A   \n",
       "9070193          1659.0    Flat/appartement              G   \n",
       "9070194          2017.0  Vrijstaande woning              A   \n",
       "9070195          2017.0  Vrijstaande woning              A   \n",
       "9070196          2017.0  Vrijstaande woning              A   \n",
       "\n",
       "         BOUWJAAR_WONING_fl POSTCODE_DIGITS LABELCAT  \n",
       "0                    2002.0            9901        5  \n",
       "1                    2002.0            9901        5  \n",
       "4                    1925.0            9901        0  \n",
       "5                    1950.0            9901        2  \n",
       "7                    1930.0            9901        0  \n",
       "...                     ...             ...      ...  \n",
       "9070192              2016.0            1601        6  \n",
       "9070193              1659.0            1601        0  \n",
       "9070194              2017.0            1602        6  \n",
       "9070195              2017.0            1602        6  \n",
       "9070196              2017.0            1602        6  \n",
       "\n",
       "[8127611 rows x 9 columns]"
      ]
     },
     "execution_count": 39,
     "metadata": {},
     "output_type": "execute_result"
    }
   ],
   "source": [
    "insulation_3"
   ]
  },
  {
   "cell_type": "code",
   "execution_count": 40,
   "metadata": {
    "scrolled": true
   },
   "outputs": [
    {
     "data": {
      "text/plain": [
       "4        2243496\n",
       "0        1197749\n",
       "5        1169030\n",
       "6        1158664\n",
       "2        1096641\n",
       "1         762379\n",
       "3         494185\n",
       "Other       5467\n",
       "Name: LABELCAT, dtype: int64"
      ]
     },
     "execution_count": 40,
     "metadata": {},
     "output_type": "execute_result"
    }
   ],
   "source": [
    "# check the results of the operation\n",
    "insulation_3.LABELCAT.value_counts()"
   ]
  },
  {
   "cell_type": "code",
   "execution_count": 41,
   "metadata": {
    "scrolled": false
   },
   "outputs": [
    {
     "data": {
      "text/html": [
       "<div>\n",
       "<style scoped>\n",
       "    .dataframe tbody tr th:only-of-type {\n",
       "        vertical-align: middle;\n",
       "    }\n",
       "\n",
       "    .dataframe tbody tr th {\n",
       "        vertical-align: top;\n",
       "    }\n",
       "\n",
       "    .dataframe thead th {\n",
       "        text-align: right;\n",
       "    }\n",
       "</style>\n",
       "<table border=\"1\" class=\"dataframe\">\n",
       "  <thead>\n",
       "    <tr style=\"text-align: right;\">\n",
       "      <th></th>\n",
       "      <th>POSTCODE_WONING</th>\n",
       "      <th>HUISNUMMER_WONING</th>\n",
       "      <th>HUISNUMMER_TOEV_WONING</th>\n",
       "      <th>BOUWJAAR_WONING</th>\n",
       "      <th>WONING_TYPE</th>\n",
       "      <th>VOORL_BEREKEND</th>\n",
       "      <th>BOUWJAAR_WONING_fl</th>\n",
       "      <th>POSTCODE_DIGITS</th>\n",
       "      <th>LABELCAT</th>\n",
       "    </tr>\n",
       "  </thead>\n",
       "  <tbody>\n",
       "    <tr>\n",
       "      <th>13758</th>\n",
       "      <td>9697NP</td>\n",
       "      <td>104.0</td>\n",
       "      <td>NaN</td>\n",
       "      <td>1934.0</td>\n",
       "      <td>Specifiek object</td>\n",
       "      <td>NaN</td>\n",
       "      <td>1934.0</td>\n",
       "      <td>9697</td>\n",
       "      <td>Other</td>\n",
       "    </tr>\n",
       "    <tr>\n",
       "      <th>15708</th>\n",
       "      <td>9699TT</td>\n",
       "      <td>7.0</td>\n",
       "      <td>NaN</td>\n",
       "      <td>1937.0</td>\n",
       "      <td>Specifiek object</td>\n",
       "      <td>NaN</td>\n",
       "      <td>1937.0</td>\n",
       "      <td>9699</td>\n",
       "      <td>Other</td>\n",
       "    </tr>\n",
       "    <tr>\n",
       "      <th>16092</th>\n",
       "      <td>9698AB</td>\n",
       "      <td>39.0</td>\n",
       "      <td>NaN</td>\n",
       "      <td>1990.0</td>\n",
       "      <td>Specifiek object</td>\n",
       "      <td>NaN</td>\n",
       "      <td>1990.0</td>\n",
       "      <td>9698</td>\n",
       "      <td>Other</td>\n",
       "    </tr>\n",
       "    <tr>\n",
       "      <th>34372</th>\n",
       "      <td>9725JS</td>\n",
       "      <td>67.0</td>\n",
       "      <td>NaN</td>\n",
       "      <td>1912.0</td>\n",
       "      <td>Specifiek object</td>\n",
       "      <td>NaN</td>\n",
       "      <td>1912.0</td>\n",
       "      <td>9725</td>\n",
       "      <td>Other</td>\n",
       "    </tr>\n",
       "    <tr>\n",
       "      <th>56364</th>\n",
       "      <td>9711KT</td>\n",
       "      <td>20.0</td>\n",
       "      <td>NaN</td>\n",
       "      <td>1850.0</td>\n",
       "      <td>Specifiek object</td>\n",
       "      <td>NaN</td>\n",
       "      <td>1850.0</td>\n",
       "      <td>9711</td>\n",
       "      <td>Other</td>\n",
       "    </tr>\n",
       "    <tr>\n",
       "      <th>...</th>\n",
       "      <td>...</td>\n",
       "      <td>...</td>\n",
       "      <td>...</td>\n",
       "      <td>...</td>\n",
       "      <td>...</td>\n",
       "      <td>...</td>\n",
       "      <td>...</td>\n",
       "      <td>...</td>\n",
       "      <td>...</td>\n",
       "    </tr>\n",
       "    <tr>\n",
       "      <th>9035849</th>\n",
       "      <td>3202JN</td>\n",
       "      <td>12.0</td>\n",
       "      <td>NaN</td>\n",
       "      <td>1962.0</td>\n",
       "      <td>Specifiek object</td>\n",
       "      <td>NaN</td>\n",
       "      <td>1962.0</td>\n",
       "      <td>3202</td>\n",
       "      <td>Other</td>\n",
       "    </tr>\n",
       "    <tr>\n",
       "      <th>9039816</th>\n",
       "      <td>1404HH</td>\n",
       "      <td>12.0</td>\n",
       "      <td>C</td>\n",
       "      <td>1891.0</td>\n",
       "      <td>Specifiek object</td>\n",
       "      <td>NaN</td>\n",
       "      <td>1891.0</td>\n",
       "      <td>1404</td>\n",
       "      <td>Other</td>\n",
       "    </tr>\n",
       "    <tr>\n",
       "      <th>9040192</th>\n",
       "      <td>1404EL</td>\n",
       "      <td>35.0</td>\n",
       "      <td>A</td>\n",
       "      <td>1920.0</td>\n",
       "      <td>Specifiek object</td>\n",
       "      <td>NaN</td>\n",
       "      <td>1920.0</td>\n",
       "      <td>1404</td>\n",
       "      <td>Other</td>\n",
       "    </tr>\n",
       "    <tr>\n",
       "      <th>9043310</th>\n",
       "      <td>9076BZ</td>\n",
       "      <td>118.0</td>\n",
       "      <td>NaN</td>\n",
       "      <td>1931.0</td>\n",
       "      <td>Specifiek object</td>\n",
       "      <td>NaN</td>\n",
       "      <td>1931.0</td>\n",
       "      <td>9076</td>\n",
       "      <td>Other</td>\n",
       "    </tr>\n",
       "    <tr>\n",
       "      <th>9067555</th>\n",
       "      <td>9649EB</td>\n",
       "      <td>11.0</td>\n",
       "      <td>NaN</td>\n",
       "      <td>1850.0</td>\n",
       "      <td>Specifiek object</td>\n",
       "      <td>NaN</td>\n",
       "      <td>1850.0</td>\n",
       "      <td>9649</td>\n",
       "      <td>Other</td>\n",
       "    </tr>\n",
       "  </tbody>\n",
       "</table>\n",
       "<p>5467 rows × 9 columns</p>\n",
       "</div>"
      ],
      "text/plain": [
       "        POSTCODE_WONING HUISNUMMER_WONING HUISNUMMER_TOEV_WONING  \\\n",
       "13758            9697NP             104.0                    NaN   \n",
       "15708            9699TT               7.0                    NaN   \n",
       "16092            9698AB              39.0                    NaN   \n",
       "34372            9725JS              67.0                    NaN   \n",
       "56364            9711KT              20.0                    NaN   \n",
       "...                 ...               ...                    ...   \n",
       "9035849          3202JN              12.0                    NaN   \n",
       "9039816          1404HH              12.0                      C   \n",
       "9040192          1404EL              35.0                      A   \n",
       "9043310          9076BZ             118.0                    NaN   \n",
       "9067555          9649EB              11.0                    NaN   \n",
       "\n",
       "        BOUWJAAR_WONING       WONING_TYPE VOORL_BEREKEND  BOUWJAAR_WONING_fl  \\\n",
       "13758            1934.0  Specifiek object            NaN              1934.0   \n",
       "15708            1937.0  Specifiek object            NaN              1937.0   \n",
       "16092            1990.0  Specifiek object            NaN              1990.0   \n",
       "34372            1912.0  Specifiek object            NaN              1912.0   \n",
       "56364            1850.0  Specifiek object            NaN              1850.0   \n",
       "...                 ...               ...            ...                 ...   \n",
       "9035849          1962.0  Specifiek object            NaN              1962.0   \n",
       "9039816          1891.0  Specifiek object            NaN              1891.0   \n",
       "9040192          1920.0  Specifiek object            NaN              1920.0   \n",
       "9043310          1931.0  Specifiek object            NaN              1931.0   \n",
       "9067555          1850.0  Specifiek object            NaN              1850.0   \n",
       "\n",
       "        POSTCODE_DIGITS LABELCAT  \n",
       "13758              9697    Other  \n",
       "15708              9699    Other  \n",
       "16092              9698    Other  \n",
       "34372              9725    Other  \n",
       "56364              9711    Other  \n",
       "...                 ...      ...  \n",
       "9035849            3202    Other  \n",
       "9039816            1404    Other  \n",
       "9040192            1404    Other  \n",
       "9043310            9076    Other  \n",
       "9067555            9649    Other  \n",
       "\n",
       "[5467 rows x 9 columns]"
      ]
     },
     "execution_count": 41,
     "metadata": {},
     "output_type": "execute_result"
    }
   ],
   "source": [
    "# check the 'other' results\n",
    "# seems like there are missing values in the VOORL_BEREKEND insulation labels\n",
    "\n",
    "insulation_3[insulation_3.LABELCAT == 'Other']"
   ]
  },
  {
   "cell_type": "code",
   "execution_count": 42,
   "metadata": {
    "collapsed": true
   },
   "outputs": [],
   "source": [
    "# If there are no labels, we will drop the entries because they are not of use\n",
    "# we are trying to make an estimation and not an accurate prediction per household\n",
    "\n",
    "insulation_4 = insulation_3[insulation_3.LABELCAT != 'Other']"
   ]
  },
  {
   "cell_type": "code",
   "execution_count": 43,
   "metadata": {
    "scrolled": true
   },
   "outputs": [
    {
     "data": {
      "text/plain": [
       "dtype('O')"
      ]
     },
     "execution_count": 43,
     "metadata": {},
     "output_type": "execute_result"
    }
   ],
   "source": [
    "# checking whether the column entries are integers or floats that can be calculated with \n",
    "insulation_4.LABELCAT.dtypes"
   ]
  },
  {
   "cell_type": "code",
   "execution_count": 44,
   "metadata": {
    "scrolled": true
   },
   "outputs": [
    {
     "name": "stderr",
     "output_type": "stream",
     "text": [
      "/Users/jaromirbogdanovski/anaconda3/lib/python3.6/site-packages/ipykernel_launcher.py:2: SettingWithCopyWarning: \n",
      "A value is trying to be set on a copy of a slice from a DataFrame.\n",
      "Try using .loc[row_indexer,col_indexer] = value instead\n",
      "\n",
      "See the caveats in the documentation: https://pandas.pydata.org/pandas-docs/stable/user_guide/indexing.html#returning-a-view-versus-a-copy\n",
      "  \n"
     ]
    }
   ],
   "source": [
    "# apperantly not, so we must change the column to integers\n",
    "insulation_4['LABELCAT'] = insulation_4.LABELCAT.apply(pd.to_numeric, errors = 'ignore')"
   ]
  },
  {
   "cell_type": "code",
   "execution_count": 45,
   "metadata": {},
   "outputs": [
    {
     "data": {
      "text/plain": [
       "dtype('int64')"
      ]
     },
     "execution_count": 45,
     "metadata": {},
     "output_type": "execute_result"
    }
   ],
   "source": [
    "insulation_4.LABELCAT.dtypes"
   ]
  },
  {
   "cell_type": "code",
   "execution_count": 46,
   "metadata": {},
   "outputs": [
    {
     "data": {
      "text/plain": [
       "3.0002421307506055"
      ]
     },
     "execution_count": 46,
     "metadata": {},
     "output_type": "execute_result"
    }
   ],
   "source": [
    "insulation_4.LABELCAT[insulation_4['POSTCODE_DIGITS'] == '3054'].mean()"
   ]
  },
  {
   "cell_type": "code",
   "execution_count": 47,
   "metadata": {
    "collapsed": true
   },
   "outputs": [],
   "source": [
    "# output dataframe with 4digits, avg insulation, avg built year\n",
    "\n",
    "insulation_output = pd.DataFrame({'POSTCODE_DIGITS': insulation_4.POSTCODE_DIGITS.unique()})"
   ]
  },
  {
   "cell_type": "code",
   "execution_count": 48,
   "metadata": {
    "collapsed": true,
    "scrolled": true
   },
   "outputs": [],
   "source": [
    "#insulation_output['AVG_LABEL'] = insulation_4.groupby('POSTCODE_DIGITS')['LABELCAT'].agg(lambda x: x.uniqueb().mean())\n",
    "# insulation_output"
   ]
  },
  {
   "cell_type": "code",
   "execution_count": 63,
   "metadata": {
    "collapsed": true
   },
   "outputs": [],
   "source": [
    "def woningtype_trans(row, woningtype):\n",
    "    if row['WONING_TYPE'] == woningtype:\n",
    "        return 1\n",
    "    else:\n",
    "        return 0"
   ]
  },
  {
   "cell_type": "code",
   "execution_count": 68,
   "metadata": {},
   "outputs": [
    {
     "data": {
      "text/plain": [
       "array(['Flat/appartement', 'Vrijstaande woning', 'Rijwoning hoek',\n",
       "       'Rijwoning tussen', 'Twee/één kapwoning', 'Maisonnette',\n",
       "       'Specifiek object'], dtype=object)"
      ]
     },
     "execution_count": 68,
     "metadata": {},
     "output_type": "execute_result"
    }
   ],
   "source": [
    "woningtypes = insulation_4.WONING_TYPE.unique()\n",
    "woningtypes\n",
    "\n"
   ]
  },
  {
   "cell_type": "code",
   "execution_count": 70,
   "metadata": {},
   "outputs": [
    {
     "name": "stderr",
     "output_type": "stream",
     "text": [
      "/Users/jaromirbogdanovski/anaconda3/lib/python3.6/site-packages/pandas/core/indexing.py:671: SettingWithCopyWarning: \n",
      "A value is trying to be set on a copy of a slice from a DataFrame\n",
      "\n",
      "See the caveats in the documentation: https://pandas.pydata.org/pandas-docs/stable/user_guide/indexing.html#returning-a-view-versus-a-copy\n",
      "  self._setitem_with_indexer(indexer, value)\n",
      "/Users/jaromirbogdanovski/anaconda3/lib/python3.6/site-packages/ipykernel_launcher.py:8: SettingWithCopyWarning: \n",
      "A value is trying to be set on a copy of a slice from a DataFrame\n",
      "\n",
      "See the caveats in the documentation: https://pandas.pydata.org/pandas-docs/stable/user_guide/indexing.html#returning-a-view-versus-a-copy\n",
      "  \n",
      "/Users/jaromirbogdanovski/anaconda3/lib/python3.6/site-packages/ipykernel_launcher.py:9: SettingWithCopyWarning: \n",
      "A value is trying to be set on a copy of a slice from a DataFrame\n",
      "\n",
      "See the caveats in the documentation: https://pandas.pydata.org/pandas-docs/stable/user_guide/indexing.html#returning-a-view-versus-a-copy\n",
      "  if __name__ == '__main__':\n",
      "/Users/jaromirbogdanovski/anaconda3/lib/python3.6/site-packages/ipykernel_launcher.py:10: SettingWithCopyWarning: \n",
      "A value is trying to be set on a copy of a slice from a DataFrame\n",
      "\n",
      "See the caveats in the documentation: https://pandas.pydata.org/pandas-docs/stable/user_guide/indexing.html#returning-a-view-versus-a-copy\n",
      "  # Remove the CWD from sys.path while we load stuff.\n",
      "/Users/jaromirbogdanovski/anaconda3/lib/python3.6/site-packages/ipykernel_launcher.py:11: SettingWithCopyWarning: \n",
      "A value is trying to be set on a copy of a slice from a DataFrame\n",
      "\n",
      "See the caveats in the documentation: https://pandas.pydata.org/pandas-docs/stable/user_guide/indexing.html#returning-a-view-versus-a-copy\n",
      "  # This is added back by InteractiveShellApp.init_path()\n",
      "/Users/jaromirbogdanovski/anaconda3/lib/python3.6/site-packages/ipykernel_launcher.py:12: SettingWithCopyWarning: \n",
      "A value is trying to be set on a copy of a slice from a DataFrame\n",
      "\n",
      "See the caveats in the documentation: https://pandas.pydata.org/pandas-docs/stable/user_guide/indexing.html#returning-a-view-versus-a-copy\n",
      "  if sys.path[0] == '':\n",
      "/Users/jaromirbogdanovski/anaconda3/lib/python3.6/site-packages/ipykernel_launcher.py:17: SettingWithCopyWarning: \n",
      "A value is trying to be set on a copy of a slice from a DataFrame.\n",
      "Try using .loc[row_indexer,col_indexer] = value instead\n",
      "\n",
      "See the caveats in the documentation: https://pandas.pydata.org/pandas-docs/stable/user_guide/indexing.html#returning-a-view-versus-a-copy\n",
      "/Users/jaromirbogdanovski/anaconda3/lib/python3.6/site-packages/ipykernel_launcher.py:18: SettingWithCopyWarning: \n",
      "A value is trying to be set on a copy of a slice from a DataFrame.\n",
      "Try using .loc[row_indexer,col_indexer] = value instead\n",
      "\n",
      "See the caveats in the documentation: https://pandas.pydata.org/pandas-docs/stable/user_guide/indexing.html#returning-a-view-versus-a-copy\n",
      "/Users/jaromirbogdanovski/anaconda3/lib/python3.6/site-packages/ipykernel_launcher.py:19: SettingWithCopyWarning: \n",
      "A value is trying to be set on a copy of a slice from a DataFrame.\n",
      "Try using .loc[row_indexer,col_indexer] = value instead\n",
      "\n",
      "See the caveats in the documentation: https://pandas.pydata.org/pandas-docs/stable/user_guide/indexing.html#returning-a-view-versus-a-copy\n",
      "/Users/jaromirbogdanovski/anaconda3/lib/python3.6/site-packages/ipykernel_launcher.py:20: SettingWithCopyWarning: \n",
      "A value is trying to be set on a copy of a slice from a DataFrame.\n",
      "Try using .loc[row_indexer,col_indexer] = value instead\n",
      "\n",
      "See the caveats in the documentation: https://pandas.pydata.org/pandas-docs/stable/user_guide/indexing.html#returning-a-view-versus-a-copy\n",
      "/Users/jaromirbogdanovski/anaconda3/lib/python3.6/site-packages/ipykernel_launcher.py:21: SettingWithCopyWarning: \n",
      "A value is trying to be set on a copy of a slice from a DataFrame.\n",
      "Try using .loc[row_indexer,col_indexer] = value instead\n",
      "\n",
      "See the caveats in the documentation: https://pandas.pydata.org/pandas-docs/stable/user_guide/indexing.html#returning-a-view-versus-a-copy\n"
     ]
    },
    {
     "data": {
      "text/html": [
       "<div>\n",
       "<style scoped>\n",
       "    .dataframe tbody tr th:only-of-type {\n",
       "        vertical-align: middle;\n",
       "    }\n",
       "\n",
       "    .dataframe tbody tr th {\n",
       "        vertical-align: top;\n",
       "    }\n",
       "\n",
       "    .dataframe thead th {\n",
       "        text-align: right;\n",
       "    }\n",
       "</style>\n",
       "<table border=\"1\" class=\"dataframe\">\n",
       "  <thead>\n",
       "    <tr style=\"text-align: right;\">\n",
       "      <th></th>\n",
       "      <th>POSTCODE_WONING</th>\n",
       "      <th>HUISNUMMER_WONING</th>\n",
       "      <th>HUISNUMMER_TOEV_WONING</th>\n",
       "      <th>BOUWJAAR_WONING</th>\n",
       "      <th>WONING_TYPE</th>\n",
       "      <th>VOORL_BEREKEND</th>\n",
       "      <th>BOUWJAAR_WONING_fl</th>\n",
       "      <th>POSTCODE_DIGITS</th>\n",
       "      <th>LABELCAT</th>\n",
       "      <th>Flat/appartement</th>\n",
       "      <th>Vrijstaande woning</th>\n",
       "      <th>Rijwoning hoek</th>\n",
       "      <th>Rijwoning tussen</th>\n",
       "      <th>Twee/één kapwoning</th>\n",
       "    </tr>\n",
       "  </thead>\n",
       "  <tbody>\n",
       "    <tr>\n",
       "      <th>0</th>\n",
       "      <td>9901KB</td>\n",
       "      <td>16.0</td>\n",
       "      <td>NaN</td>\n",
       "      <td>2002.0</td>\n",
       "      <td>Flat/appartement</td>\n",
       "      <td>B</td>\n",
       "      <td>2002.0</td>\n",
       "      <td>9901</td>\n",
       "      <td>5</td>\n",
       "      <td>1</td>\n",
       "      <td>0</td>\n",
       "      <td>0</td>\n",
       "      <td>0</td>\n",
       "      <td>0</td>\n",
       "    </tr>\n",
       "    <tr>\n",
       "      <th>1</th>\n",
       "      <td>9901KB</td>\n",
       "      <td>20.0</td>\n",
       "      <td>NaN</td>\n",
       "      <td>2002.0</td>\n",
       "      <td>Flat/appartement</td>\n",
       "      <td>B</td>\n",
       "      <td>2002.0</td>\n",
       "      <td>9901</td>\n",
       "      <td>5</td>\n",
       "      <td>1</td>\n",
       "      <td>0</td>\n",
       "      <td>0</td>\n",
       "      <td>0</td>\n",
       "      <td>0</td>\n",
       "    </tr>\n",
       "    <tr>\n",
       "      <th>4</th>\n",
       "      <td>9901AD</td>\n",
       "      <td>15.0</td>\n",
       "      <td>NaN</td>\n",
       "      <td>1925.0</td>\n",
       "      <td>Vrijstaande woning</td>\n",
       "      <td>G</td>\n",
       "      <td>1925.0</td>\n",
       "      <td>9901</td>\n",
       "      <td>0</td>\n",
       "      <td>0</td>\n",
       "      <td>1</td>\n",
       "      <td>0</td>\n",
       "      <td>0</td>\n",
       "      <td>0</td>\n",
       "    </tr>\n",
       "    <tr>\n",
       "      <th>5</th>\n",
       "      <td>9901AD</td>\n",
       "      <td>6.0</td>\n",
       "      <td>NaN</td>\n",
       "      <td>1950.0</td>\n",
       "      <td>Flat/appartement</td>\n",
       "      <td>E</td>\n",
       "      <td>1950.0</td>\n",
       "      <td>9901</td>\n",
       "      <td>2</td>\n",
       "      <td>1</td>\n",
       "      <td>0</td>\n",
       "      <td>0</td>\n",
       "      <td>0</td>\n",
       "      <td>0</td>\n",
       "    </tr>\n",
       "    <tr>\n",
       "      <th>7</th>\n",
       "      <td>9901AD</td>\n",
       "      <td>10.0</td>\n",
       "      <td>A</td>\n",
       "      <td>1930.0</td>\n",
       "      <td>Flat/appartement</td>\n",
       "      <td>G</td>\n",
       "      <td>1930.0</td>\n",
       "      <td>9901</td>\n",
       "      <td>0</td>\n",
       "      <td>1</td>\n",
       "      <td>0</td>\n",
       "      <td>0</td>\n",
       "      <td>0</td>\n",
       "      <td>0</td>\n",
       "    </tr>\n",
       "    <tr>\n",
       "      <th>...</th>\n",
       "      <td>...</td>\n",
       "      <td>...</td>\n",
       "      <td>...</td>\n",
       "      <td>...</td>\n",
       "      <td>...</td>\n",
       "      <td>...</td>\n",
       "      <td>...</td>\n",
       "      <td>...</td>\n",
       "      <td>...</td>\n",
       "      <td>...</td>\n",
       "      <td>...</td>\n",
       "      <td>...</td>\n",
       "      <td>...</td>\n",
       "      <td>...</td>\n",
       "    </tr>\n",
       "    <tr>\n",
       "      <th>9070192</th>\n",
       "      <td>1601EE</td>\n",
       "      <td>31.0</td>\n",
       "      <td>NaN</td>\n",
       "      <td>2016.0</td>\n",
       "      <td>Rijwoning hoek</td>\n",
       "      <td>A</td>\n",
       "      <td>2016.0</td>\n",
       "      <td>1601</td>\n",
       "      <td>6</td>\n",
       "      <td>0</td>\n",
       "      <td>0</td>\n",
       "      <td>1</td>\n",
       "      <td>0</td>\n",
       "      <td>0</td>\n",
       "    </tr>\n",
       "    <tr>\n",
       "      <th>9070193</th>\n",
       "      <td>1601AC</td>\n",
       "      <td>65.0</td>\n",
       "      <td>A</td>\n",
       "      <td>1659.0</td>\n",
       "      <td>Flat/appartement</td>\n",
       "      <td>G</td>\n",
       "      <td>1659.0</td>\n",
       "      <td>1601</td>\n",
       "      <td>0</td>\n",
       "      <td>1</td>\n",
       "      <td>0</td>\n",
       "      <td>0</td>\n",
       "      <td>0</td>\n",
       "      <td>0</td>\n",
       "    </tr>\n",
       "    <tr>\n",
       "      <th>9070194</th>\n",
       "      <td>1602CS</td>\n",
       "      <td>20.0</td>\n",
       "      <td>NaN</td>\n",
       "      <td>2017.0</td>\n",
       "      <td>Vrijstaande woning</td>\n",
       "      <td>A</td>\n",
       "      <td>2017.0</td>\n",
       "      <td>1602</td>\n",
       "      <td>6</td>\n",
       "      <td>0</td>\n",
       "      <td>1</td>\n",
       "      <td>0</td>\n",
       "      <td>0</td>\n",
       "      <td>0</td>\n",
       "    </tr>\n",
       "    <tr>\n",
       "      <th>9070195</th>\n",
       "      <td>1602CS</td>\n",
       "      <td>24.0</td>\n",
       "      <td>NaN</td>\n",
       "      <td>2017.0</td>\n",
       "      <td>Vrijstaande woning</td>\n",
       "      <td>A</td>\n",
       "      <td>2017.0</td>\n",
       "      <td>1602</td>\n",
       "      <td>6</td>\n",
       "      <td>0</td>\n",
       "      <td>1</td>\n",
       "      <td>0</td>\n",
       "      <td>0</td>\n",
       "      <td>0</td>\n",
       "    </tr>\n",
       "    <tr>\n",
       "      <th>9070196</th>\n",
       "      <td>1602CS</td>\n",
       "      <td>40.0</td>\n",
       "      <td>NaN</td>\n",
       "      <td>2017.0</td>\n",
       "      <td>Vrijstaande woning</td>\n",
       "      <td>A</td>\n",
       "      <td>2017.0</td>\n",
       "      <td>1602</td>\n",
       "      <td>6</td>\n",
       "      <td>0</td>\n",
       "      <td>1</td>\n",
       "      <td>0</td>\n",
       "      <td>0</td>\n",
       "      <td>0</td>\n",
       "    </tr>\n",
       "  </tbody>\n",
       "</table>\n",
       "<p>8122144 rows × 14 columns</p>\n",
       "</div>"
      ],
      "text/plain": [
       "        POSTCODE_WONING HUISNUMMER_WONING HUISNUMMER_TOEV_WONING  \\\n",
       "0                9901KB              16.0                    NaN   \n",
       "1                9901KB              20.0                    NaN   \n",
       "4                9901AD              15.0                    NaN   \n",
       "5                9901AD               6.0                    NaN   \n",
       "7                9901AD              10.0                      A   \n",
       "...                 ...               ...                    ...   \n",
       "9070192          1601EE              31.0                    NaN   \n",
       "9070193          1601AC              65.0                      A   \n",
       "9070194          1602CS              20.0                    NaN   \n",
       "9070195          1602CS              24.0                    NaN   \n",
       "9070196          1602CS              40.0                    NaN   \n",
       "\n",
       "        BOUWJAAR_WONING         WONING_TYPE VOORL_BEREKEND  \\\n",
       "0                2002.0    Flat/appartement              B   \n",
       "1                2002.0    Flat/appartement              B   \n",
       "4                1925.0  Vrijstaande woning              G   \n",
       "5                1950.0    Flat/appartement              E   \n",
       "7                1930.0    Flat/appartement              G   \n",
       "...                 ...                 ...            ...   \n",
       "9070192          2016.0      Rijwoning hoek              A   \n",
       "9070193          1659.0    Flat/appartement              G   \n",
       "9070194          2017.0  Vrijstaande woning              A   \n",
       "9070195          2017.0  Vrijstaande woning              A   \n",
       "9070196          2017.0  Vrijstaande woning              A   \n",
       "\n",
       "         BOUWJAAR_WONING_fl POSTCODE_DIGITS  LABELCAT  Flat/appartement  \\\n",
       "0                    2002.0            9901         5                 1   \n",
       "1                    2002.0            9901         5                 1   \n",
       "4                    1925.0            9901         0                 0   \n",
       "5                    1950.0            9901         2                 1   \n",
       "7                    1930.0            9901         0                 1   \n",
       "...                     ...             ...       ...               ...   \n",
       "9070192              2016.0            1601         6                 0   \n",
       "9070193              1659.0            1601         0                 1   \n",
       "9070194              2017.0            1602         6                 0   \n",
       "9070195              2017.0            1602         6                 0   \n",
       "9070196              2017.0            1602         6                 0   \n",
       "\n",
       "         Vrijstaande woning  Rijwoning hoek  Rijwoning tussen  \\\n",
       "0                         0               0                 0   \n",
       "1                         0               0                 0   \n",
       "4                         1               0                 0   \n",
       "5                         0               0                 0   \n",
       "7                         0               0                 0   \n",
       "...                     ...             ...               ...   \n",
       "9070192                   0               1                 0   \n",
       "9070193                   0               0                 0   \n",
       "9070194                   1               0                 0   \n",
       "9070195                   1               0                 0   \n",
       "9070196                   1               0                 0   \n",
       "\n",
       "         Twee/één kapwoning  \n",
       "0                         0  \n",
       "1                         0  \n",
       "4                         0  \n",
       "5                         0  \n",
       "7                         0  \n",
       "...                     ...  \n",
       "9070192                   0  \n",
       "9070193                   0  \n",
       "9070194                   0  \n",
       "9070195                   0  \n",
       "9070196                   0  \n",
       "\n",
       "[8122144 rows x 14 columns]"
      ]
     },
     "execution_count": 70,
     "metadata": {},
     "output_type": "execute_result"
    }
   ],
   "source": [
    "# create unique postcode_digits df with percentages of building types in columns\n",
    "\n",
    "# what unique building type entries do we have?\n",
    "woningtypes = insulation_4.WONING_TYPE.unique()\n",
    "\n",
    "# these values should be new columns in insulation df and be set to 0\n",
    "\n",
    "insulation_4[woningtypes[0]].loc[:] = 0\n",
    "insulation_4[woningtypes[1]].loc[:] = 0\n",
    "insulation_4[woningtypes[2]].loc[:] = 0\n",
    "insulation_4[woningtypes[3]].loc[:] = 0\n",
    "insulation_4[woningtypes[4]].loc[:] = 0\n",
    "insulation_4\n",
    "\n",
    "# add 1 to these rows if WONING_TYPE is corresponding with column name\n",
    "\n",
    "insulation_4[woningtypes[0]] = insulation_4.apply(lambda row: woningtype_trans(row, woningtypes[0]), axis=1)\n",
    "insulation_4[woningtypes[1]] = insulation_4.apply(lambda row: woningtype_trans(row, woningtypes[1]), axis=1)\n",
    "insulation_4[woningtypes[2]] = insulation_4.apply(lambda row: woningtype_trans(row, woningtypes[2]), axis=1)\n",
    "insulation_4[woningtypes[3]] = insulation_4.apply(lambda row: woningtype_trans(row, woningtypes[3]), axis=1)\n",
    "insulation_4[woningtypes[4]] = insulation_4.apply(lambda row: woningtype_trans(row, woningtypes[4]), axis=1)\n",
    "insulation_4\n",
    "\n"
   ]
  },
  {
   "cell_type": "code",
   "execution_count": 88,
   "metadata": {},
   "outputs": [
    {
     "data": {
      "text/html": [
       "<div>\n",
       "<style scoped>\n",
       "    .dataframe tbody tr th:only-of-type {\n",
       "        vertical-align: middle;\n",
       "    }\n",
       "\n",
       "    .dataframe tbody tr th {\n",
       "        vertical-align: top;\n",
       "    }\n",
       "\n",
       "    .dataframe thead th {\n",
       "        text-align: right;\n",
       "    }\n",
       "</style>\n",
       "<table border=\"1\" class=\"dataframe\">\n",
       "  <thead>\n",
       "    <tr style=\"text-align: right;\">\n",
       "      <th></th>\n",
       "      <th>Flat/appartement</th>\n",
       "      <th>Vrijstaande woning</th>\n",
       "      <th>Rijwoning hoek</th>\n",
       "      <th>Rijwoning tussen</th>\n",
       "      <th>Twee/één kapwoning</th>\n",
       "      <th>sumcolumn</th>\n",
       "    </tr>\n",
       "    <tr>\n",
       "      <th>POSTCODE_DIGITS</th>\n",
       "      <th></th>\n",
       "      <th></th>\n",
       "      <th></th>\n",
       "      <th></th>\n",
       "      <th></th>\n",
       "      <th></th>\n",
       "    </tr>\n",
       "  </thead>\n",
       "  <tbody>\n",
       "    <tr>\n",
       "      <th>1011</th>\n",
       "      <td>0.967523</td>\n",
       "      <td>0.000315</td>\n",
       "      <td>0.002365</td>\n",
       "      <td>0.029324</td>\n",
       "      <td>0.000000</td>\n",
       "      <td>0.999527</td>\n",
       "    </tr>\n",
       "    <tr>\n",
       "      <th>1012</th>\n",
       "      <td>0.945481</td>\n",
       "      <td>0.000000</td>\n",
       "      <td>0.002292</td>\n",
       "      <td>0.052227</td>\n",
       "      <td>0.000000</td>\n",
       "      <td>1.000000</td>\n",
       "    </tr>\n",
       "    <tr>\n",
       "      <th>1013</th>\n",
       "      <td>0.984721</td>\n",
       "      <td>0.000792</td>\n",
       "      <td>0.001108</td>\n",
       "      <td>0.012825</td>\n",
       "      <td>0.000554</td>\n",
       "      <td>1.000000</td>\n",
       "    </tr>\n",
       "    <tr>\n",
       "      <th>1014</th>\n",
       "      <td>0.916449</td>\n",
       "      <td>0.003481</td>\n",
       "      <td>0.010444</td>\n",
       "      <td>0.067885</td>\n",
       "      <td>0.001741</td>\n",
       "      <td>1.000000</td>\n",
       "    </tr>\n",
       "    <tr>\n",
       "      <th>1015</th>\n",
       "      <td>0.946943</td>\n",
       "      <td>0.000100</td>\n",
       "      <td>0.002892</td>\n",
       "      <td>0.049865</td>\n",
       "      <td>0.000199</td>\n",
       "      <td>1.000000</td>\n",
       "    </tr>\n",
       "    <tr>\n",
       "      <th>...</th>\n",
       "      <td>...</td>\n",
       "      <td>...</td>\n",
       "      <td>...</td>\n",
       "      <td>...</td>\n",
       "      <td>...</td>\n",
       "      <td>...</td>\n",
       "    </tr>\n",
       "    <tr>\n",
       "      <th>9995</th>\n",
       "      <td>0.033898</td>\n",
       "      <td>0.627119</td>\n",
       "      <td>0.088136</td>\n",
       "      <td>0.105085</td>\n",
       "      <td>0.145763</td>\n",
       "      <td>1.000000</td>\n",
       "    </tr>\n",
       "    <tr>\n",
       "      <th>9996</th>\n",
       "      <td>0.000000</td>\n",
       "      <td>1.000000</td>\n",
       "      <td>0.000000</td>\n",
       "      <td>0.000000</td>\n",
       "      <td>0.000000</td>\n",
       "      <td>1.000000</td>\n",
       "    </tr>\n",
       "    <tr>\n",
       "      <th>9997</th>\n",
       "      <td>0.000000</td>\n",
       "      <td>0.698113</td>\n",
       "      <td>0.064151</td>\n",
       "      <td>0.086792</td>\n",
       "      <td>0.150943</td>\n",
       "      <td>1.000000</td>\n",
       "    </tr>\n",
       "    <tr>\n",
       "      <th>9998</th>\n",
       "      <td>0.000000</td>\n",
       "      <td>0.917808</td>\n",
       "      <td>0.000000</td>\n",
       "      <td>0.000000</td>\n",
       "      <td>0.082192</td>\n",
       "      <td>1.000000</td>\n",
       "    </tr>\n",
       "    <tr>\n",
       "      <th>9999</th>\n",
       "      <td>0.000000</td>\n",
       "      <td>0.976190</td>\n",
       "      <td>0.000000</td>\n",
       "      <td>0.000000</td>\n",
       "      <td>0.023810</td>\n",
       "      <td>1.000000</td>\n",
       "    </tr>\n",
       "  </tbody>\n",
       "</table>\n",
       "<p>4054 rows × 6 columns</p>\n",
       "</div>"
      ],
      "text/plain": [
       "                 Flat/appartement  Vrijstaande woning  Rijwoning hoek  \\\n",
       "POSTCODE_DIGITS                                                         \n",
       "1011                     0.967523            0.000315        0.002365   \n",
       "1012                     0.945481            0.000000        0.002292   \n",
       "1013                     0.984721            0.000792        0.001108   \n",
       "1014                     0.916449            0.003481        0.010444   \n",
       "1015                     0.946943            0.000100        0.002892   \n",
       "...                           ...                 ...             ...   \n",
       "9995                     0.033898            0.627119        0.088136   \n",
       "9996                     0.000000            1.000000        0.000000   \n",
       "9997                     0.000000            0.698113        0.064151   \n",
       "9998                     0.000000            0.917808        0.000000   \n",
       "9999                     0.000000            0.976190        0.000000   \n",
       "\n",
       "                 Rijwoning tussen  Twee/één kapwoning  sumcolumn  \n",
       "POSTCODE_DIGITS                                                   \n",
       "1011                     0.029324            0.000000   0.999527  \n",
       "1012                     0.052227            0.000000   1.000000  \n",
       "1013                     0.012825            0.000554   1.000000  \n",
       "1014                     0.067885            0.001741   1.000000  \n",
       "1015                     0.049865            0.000199   1.000000  \n",
       "...                           ...                 ...        ...  \n",
       "9995                     0.105085            0.145763   1.000000  \n",
       "9996                     0.000000            0.000000   1.000000  \n",
       "9997                     0.086792            0.150943   1.000000  \n",
       "9998                     0.000000            0.082192   1.000000  \n",
       "9999                     0.000000            0.023810   1.000000  \n",
       "\n",
       "[4054 rows x 6 columns]"
      ]
     },
     "execution_count": 88,
     "metadata": {},
     "output_type": "execute_result"
    }
   ],
   "source": [
    "# new output dfs with groupby postcode_digits and mean of colun woningtypes \n",
    "\n",
    "insulation_woningtype_output = insulation_4.groupby('POSTCODE_DIGITS')[woningtypes[:5]].mean()\n",
    "insulation_woningtype_output['sumcolumn'] = insulation_woningtype_output.sum(axis=1)\n",
    "insulation_woningtype_output"
   ]
  },
  {
   "cell_type": "code",
   "execution_count": 117,
   "metadata": {
    "scrolled": false
   },
   "outputs": [
    {
     "name": "stderr",
     "output_type": "stream",
     "text": [
      "/Users/jaromirbogdanovski/anaconda3/lib/python3.6/site-packages/ipykernel_launcher.py:1: FutureWarning: Indexing with multiple keys (implicitly converted to a tuple of keys) will be deprecated, use a list instead.\n",
      "  \"\"\"Entry point for launching an IPython kernel.\n"
     ]
    },
    {
     "data": {
      "text/html": [
       "<div>\n",
       "<style scoped>\n",
       "    .dataframe tbody tr th:only-of-type {\n",
       "        vertical-align: middle;\n",
       "    }\n",
       "\n",
       "    .dataframe tbody tr th {\n",
       "        vertical-align: top;\n",
       "    }\n",
       "\n",
       "    .dataframe thead th {\n",
       "        text-align: right;\n",
       "    }\n",
       "</style>\n",
       "<table border=\"1\" class=\"dataframe\">\n",
       "  <thead>\n",
       "    <tr style=\"text-align: right;\">\n",
       "      <th></th>\n",
       "      <th>LABELCAT</th>\n",
       "      <th>BOUWJAAR_WONING_fl</th>\n",
       "      <th>Flat/appartement</th>\n",
       "      <th>Vrijstaande woning</th>\n",
       "      <th>Rijwoning hoek</th>\n",
       "      <th>Rijwoning tussen</th>\n",
       "      <th>Twee/één kapwoning</th>\n",
       "      <th>sumcolumn</th>\n",
       "    </tr>\n",
       "    <tr>\n",
       "      <th>POSTCODE_DIGITS</th>\n",
       "      <th></th>\n",
       "      <th></th>\n",
       "      <th></th>\n",
       "      <th></th>\n",
       "      <th></th>\n",
       "      <th></th>\n",
       "      <th></th>\n",
       "      <th></th>\n",
       "    </tr>\n",
       "  </thead>\n",
       "  <tbody>\n",
       "    <tr>\n",
       "      <th>1011</th>\n",
       "      <td>1.854643</td>\n",
       "      <td>1708.197383</td>\n",
       "      <td>0.967523</td>\n",
       "      <td>0.000315</td>\n",
       "      <td>0.002365</td>\n",
       "      <td>0.029324</td>\n",
       "      <td>0.000000</td>\n",
       "      <td>0.999527</td>\n",
       "    </tr>\n",
       "    <tr>\n",
       "      <th>1012</th>\n",
       "      <td>0.804682</td>\n",
       "      <td>1400.158481</td>\n",
       "      <td>0.945481</td>\n",
       "      <td>0.000000</td>\n",
       "      <td>0.002292</td>\n",
       "      <td>0.052227</td>\n",
       "      <td>0.000000</td>\n",
       "      <td>1.000000</td>\n",
       "    </tr>\n",
       "    <tr>\n",
       "      <th>1013</th>\n",
       "      <td>2.161890</td>\n",
       "      <td>1846.434927</td>\n",
       "      <td>0.984721</td>\n",
       "      <td>0.000792</td>\n",
       "      <td>0.001108</td>\n",
       "      <td>0.012825</td>\n",
       "      <td>0.000554</td>\n",
       "      <td>1.000000</td>\n",
       "    </tr>\n",
       "    <tr>\n",
       "      <th>1014</th>\n",
       "      <td>5.661880</td>\n",
       "      <td>2012.497389</td>\n",
       "      <td>0.916449</td>\n",
       "      <td>0.003481</td>\n",
       "      <td>0.010444</td>\n",
       "      <td>0.067885</td>\n",
       "      <td>0.001741</td>\n",
       "      <td>1.000000</td>\n",
       "    </tr>\n",
       "    <tr>\n",
       "      <th>1015</th>\n",
       "      <td>1.096539</td>\n",
       "      <td>1572.592700</td>\n",
       "      <td>0.946943</td>\n",
       "      <td>0.000100</td>\n",
       "      <td>0.002892</td>\n",
       "      <td>0.049865</td>\n",
       "      <td>0.000199</td>\n",
       "      <td>1.000000</td>\n",
       "    </tr>\n",
       "    <tr>\n",
       "      <th>...</th>\n",
       "      <td>...</td>\n",
       "      <td>...</td>\n",
       "      <td>...</td>\n",
       "      <td>...</td>\n",
       "      <td>...</td>\n",
       "      <td>...</td>\n",
       "      <td>...</td>\n",
       "      <td>...</td>\n",
       "    </tr>\n",
       "    <tr>\n",
       "      <th>9995</th>\n",
       "      <td>1.810169</td>\n",
       "      <td>1940.305085</td>\n",
       "      <td>0.033898</td>\n",
       "      <td>0.627119</td>\n",
       "      <td>0.088136</td>\n",
       "      <td>0.105085</td>\n",
       "      <td>0.145763</td>\n",
       "      <td>1.000000</td>\n",
       "    </tr>\n",
       "    <tr>\n",
       "      <th>9996</th>\n",
       "      <td>0.787879</td>\n",
       "      <td>1917.515152</td>\n",
       "      <td>0.000000</td>\n",
       "      <td>1.000000</td>\n",
       "      <td>0.000000</td>\n",
       "      <td>0.000000</td>\n",
       "      <td>0.000000</td>\n",
       "      <td>1.000000</td>\n",
       "    </tr>\n",
       "    <tr>\n",
       "      <th>9997</th>\n",
       "      <td>1.509434</td>\n",
       "      <td>1933.241509</td>\n",
       "      <td>0.000000</td>\n",
       "      <td>0.698113</td>\n",
       "      <td>0.064151</td>\n",
       "      <td>0.086792</td>\n",
       "      <td>0.150943</td>\n",
       "      <td>1.000000</td>\n",
       "    </tr>\n",
       "    <tr>\n",
       "      <th>9998</th>\n",
       "      <td>1.273973</td>\n",
       "      <td>1927.972603</td>\n",
       "      <td>0.000000</td>\n",
       "      <td>0.917808</td>\n",
       "      <td>0.000000</td>\n",
       "      <td>0.000000</td>\n",
       "      <td>0.082192</td>\n",
       "      <td>1.000000</td>\n",
       "    </tr>\n",
       "    <tr>\n",
       "      <th>9999</th>\n",
       "      <td>1.309524</td>\n",
       "      <td>1918.523810</td>\n",
       "      <td>0.000000</td>\n",
       "      <td>0.976190</td>\n",
       "      <td>0.000000</td>\n",
       "      <td>0.000000</td>\n",
       "      <td>0.023810</td>\n",
       "      <td>1.000000</td>\n",
       "    </tr>\n",
       "  </tbody>\n",
       "</table>\n",
       "<p>4054 rows × 8 columns</p>\n",
       "</div>"
      ],
      "text/plain": [
       "                 LABELCAT  BOUWJAAR_WONING_fl  Flat/appartement  \\\n",
       "POSTCODE_DIGITS                                                   \n",
       "1011             1.854643         1708.197383          0.967523   \n",
       "1012             0.804682         1400.158481          0.945481   \n",
       "1013             2.161890         1846.434927          0.984721   \n",
       "1014             5.661880         2012.497389          0.916449   \n",
       "1015             1.096539         1572.592700          0.946943   \n",
       "...                   ...                 ...               ...   \n",
       "9995             1.810169         1940.305085          0.033898   \n",
       "9996             0.787879         1917.515152          0.000000   \n",
       "9997             1.509434         1933.241509          0.000000   \n",
       "9998             1.273973         1927.972603          0.000000   \n",
       "9999             1.309524         1918.523810          0.000000   \n",
       "\n",
       "                 Vrijstaande woning  Rijwoning hoek  Rijwoning tussen  \\\n",
       "POSTCODE_DIGITS                                                         \n",
       "1011                       0.000315        0.002365          0.029324   \n",
       "1012                       0.000000        0.002292          0.052227   \n",
       "1013                       0.000792        0.001108          0.012825   \n",
       "1014                       0.003481        0.010444          0.067885   \n",
       "1015                       0.000100        0.002892          0.049865   \n",
       "...                             ...             ...               ...   \n",
       "9995                       0.627119        0.088136          0.105085   \n",
       "9996                       1.000000        0.000000          0.000000   \n",
       "9997                       0.698113        0.064151          0.086792   \n",
       "9998                       0.917808        0.000000          0.000000   \n",
       "9999                       0.976190        0.000000          0.000000   \n",
       "\n",
       "                 Twee/één kapwoning  sumcolumn  \n",
       "POSTCODE_DIGITS                                 \n",
       "1011                       0.000000   0.999527  \n",
       "1012                       0.000000   1.000000  \n",
       "1013                       0.000554   1.000000  \n",
       "1014                       0.001741   1.000000  \n",
       "1015                       0.000199   1.000000  \n",
       "...                             ...        ...  \n",
       "9995                       0.145763   1.000000  \n",
       "9996                       0.000000   1.000000  \n",
       "9997                       0.150943   1.000000  \n",
       "9998                       0.082192   1.000000  \n",
       "9999                       0.023810   1.000000  \n",
       "\n",
       "[4054 rows x 8 columns]"
      ]
     },
     "execution_count": 117,
     "metadata": {},
     "output_type": "execute_result"
    }
   ],
   "source": [
    "insulation_output = insulation_4.groupby('POSTCODE_DIGITS')['LABELCAT', 'BOUWJAAR_WONING_fl'].mean()\n",
    "insulation_output_merged = insulation_output.merge(insulation_woningtype_output, how = \"inner\", left_index=True, right_index=True )\n",
    "insulation_output_merged"
   ]
  },
  {
   "cell_type": "code",
   "execution_count": 118,
   "metadata": {},
   "outputs": [
    {
     "data": {
      "text/html": [
       "<div>\n",
       "<style scoped>\n",
       "    .dataframe tbody tr th:only-of-type {\n",
       "        vertical-align: middle;\n",
       "    }\n",
       "\n",
       "    .dataframe tbody tr th {\n",
       "        vertical-align: top;\n",
       "    }\n",
       "\n",
       "    .dataframe thead th {\n",
       "        text-align: right;\n",
       "    }\n",
       "</style>\n",
       "<table border=\"1\" class=\"dataframe\">\n",
       "  <thead>\n",
       "    <tr style=\"text-align: right;\">\n",
       "      <th></th>\n",
       "      <th>LABELCAT</th>\n",
       "      <th>BOUWJAAR_WONING_fl</th>\n",
       "      <th>FLAT_APP</th>\n",
       "      <th>VRIJ</th>\n",
       "      <th>RIJHOEK</th>\n",
       "      <th>RIJTUSSEN</th>\n",
       "      <th>TWEE_KAP</th>\n",
       "      <th>sumcolumn</th>\n",
       "    </tr>\n",
       "    <tr>\n",
       "      <th>POSTCODE_DIGITS</th>\n",
       "      <th></th>\n",
       "      <th></th>\n",
       "      <th></th>\n",
       "      <th></th>\n",
       "      <th></th>\n",
       "      <th></th>\n",
       "      <th></th>\n",
       "      <th></th>\n",
       "    </tr>\n",
       "  </thead>\n",
       "  <tbody>\n",
       "    <tr>\n",
       "      <th>1011</th>\n",
       "      <td>1.854643</td>\n",
       "      <td>1708.197383</td>\n",
       "      <td>0.967523</td>\n",
       "      <td>0.000315</td>\n",
       "      <td>0.002365</td>\n",
       "      <td>0.029324</td>\n",
       "      <td>0.000000</td>\n",
       "      <td>0.999527</td>\n",
       "    </tr>\n",
       "    <tr>\n",
       "      <th>1012</th>\n",
       "      <td>0.804682</td>\n",
       "      <td>1400.158481</td>\n",
       "      <td>0.945481</td>\n",
       "      <td>0.000000</td>\n",
       "      <td>0.002292</td>\n",
       "      <td>0.052227</td>\n",
       "      <td>0.000000</td>\n",
       "      <td>1.000000</td>\n",
       "    </tr>\n",
       "    <tr>\n",
       "      <th>1013</th>\n",
       "      <td>2.161890</td>\n",
       "      <td>1846.434927</td>\n",
       "      <td>0.984721</td>\n",
       "      <td>0.000792</td>\n",
       "      <td>0.001108</td>\n",
       "      <td>0.012825</td>\n",
       "      <td>0.000554</td>\n",
       "      <td>1.000000</td>\n",
       "    </tr>\n",
       "    <tr>\n",
       "      <th>1014</th>\n",
       "      <td>5.661880</td>\n",
       "      <td>2012.497389</td>\n",
       "      <td>0.916449</td>\n",
       "      <td>0.003481</td>\n",
       "      <td>0.010444</td>\n",
       "      <td>0.067885</td>\n",
       "      <td>0.001741</td>\n",
       "      <td>1.000000</td>\n",
       "    </tr>\n",
       "    <tr>\n",
       "      <th>1015</th>\n",
       "      <td>1.096539</td>\n",
       "      <td>1572.592700</td>\n",
       "      <td>0.946943</td>\n",
       "      <td>0.000100</td>\n",
       "      <td>0.002892</td>\n",
       "      <td>0.049865</td>\n",
       "      <td>0.000199</td>\n",
       "      <td>1.000000</td>\n",
       "    </tr>\n",
       "    <tr>\n",
       "      <th>...</th>\n",
       "      <td>...</td>\n",
       "      <td>...</td>\n",
       "      <td>...</td>\n",
       "      <td>...</td>\n",
       "      <td>...</td>\n",
       "      <td>...</td>\n",
       "      <td>...</td>\n",
       "      <td>...</td>\n",
       "    </tr>\n",
       "    <tr>\n",
       "      <th>9995</th>\n",
       "      <td>1.810169</td>\n",
       "      <td>1940.305085</td>\n",
       "      <td>0.033898</td>\n",
       "      <td>0.627119</td>\n",
       "      <td>0.088136</td>\n",
       "      <td>0.105085</td>\n",
       "      <td>0.145763</td>\n",
       "      <td>1.000000</td>\n",
       "    </tr>\n",
       "    <tr>\n",
       "      <th>9996</th>\n",
       "      <td>0.787879</td>\n",
       "      <td>1917.515152</td>\n",
       "      <td>0.000000</td>\n",
       "      <td>1.000000</td>\n",
       "      <td>0.000000</td>\n",
       "      <td>0.000000</td>\n",
       "      <td>0.000000</td>\n",
       "      <td>1.000000</td>\n",
       "    </tr>\n",
       "    <tr>\n",
       "      <th>9997</th>\n",
       "      <td>1.509434</td>\n",
       "      <td>1933.241509</td>\n",
       "      <td>0.000000</td>\n",
       "      <td>0.698113</td>\n",
       "      <td>0.064151</td>\n",
       "      <td>0.086792</td>\n",
       "      <td>0.150943</td>\n",
       "      <td>1.000000</td>\n",
       "    </tr>\n",
       "    <tr>\n",
       "      <th>9998</th>\n",
       "      <td>1.273973</td>\n",
       "      <td>1927.972603</td>\n",
       "      <td>0.000000</td>\n",
       "      <td>0.917808</td>\n",
       "      <td>0.000000</td>\n",
       "      <td>0.000000</td>\n",
       "      <td>0.082192</td>\n",
       "      <td>1.000000</td>\n",
       "    </tr>\n",
       "    <tr>\n",
       "      <th>9999</th>\n",
       "      <td>1.309524</td>\n",
       "      <td>1918.523810</td>\n",
       "      <td>0.000000</td>\n",
       "      <td>0.976190</td>\n",
       "      <td>0.000000</td>\n",
       "      <td>0.000000</td>\n",
       "      <td>0.023810</td>\n",
       "      <td>1.000000</td>\n",
       "    </tr>\n",
       "  </tbody>\n",
       "</table>\n",
       "<p>4054 rows × 8 columns</p>\n",
       "</div>"
      ],
      "text/plain": [
       "                 LABELCAT  BOUWJAAR_WONING_fl  FLAT_APP      VRIJ   RIJHOEK  \\\n",
       "POSTCODE_DIGITS                                                               \n",
       "1011             1.854643         1708.197383  0.967523  0.000315  0.002365   \n",
       "1012             0.804682         1400.158481  0.945481  0.000000  0.002292   \n",
       "1013             2.161890         1846.434927  0.984721  0.000792  0.001108   \n",
       "1014             5.661880         2012.497389  0.916449  0.003481  0.010444   \n",
       "1015             1.096539         1572.592700  0.946943  0.000100  0.002892   \n",
       "...                   ...                 ...       ...       ...       ...   \n",
       "9995             1.810169         1940.305085  0.033898  0.627119  0.088136   \n",
       "9996             0.787879         1917.515152  0.000000  1.000000  0.000000   \n",
       "9997             1.509434         1933.241509  0.000000  0.698113  0.064151   \n",
       "9998             1.273973         1927.972603  0.000000  0.917808  0.000000   \n",
       "9999             1.309524         1918.523810  0.000000  0.976190  0.000000   \n",
       "\n",
       "                 RIJTUSSEN  TWEE_KAP  sumcolumn  \n",
       "POSTCODE_DIGITS                                  \n",
       "1011              0.029324  0.000000   0.999527  \n",
       "1012              0.052227  0.000000   1.000000  \n",
       "1013              0.012825  0.000554   1.000000  \n",
       "1014              0.067885  0.001741   1.000000  \n",
       "1015              0.049865  0.000199   1.000000  \n",
       "...                    ...       ...        ...  \n",
       "9995              0.105085  0.145763   1.000000  \n",
       "9996              0.000000  0.000000   1.000000  \n",
       "9997              0.086792  0.150943   1.000000  \n",
       "9998              0.000000  0.082192   1.000000  \n",
       "9999              0.000000  0.023810   1.000000  \n",
       "\n",
       "[4054 rows x 8 columns]"
      ]
     },
     "execution_count": 118,
     "metadata": {},
     "output_type": "execute_result"
    }
   ],
   "source": [
    "# renaming columns to prevent issues with geopandas\n",
    "\n",
    "insulation_output_merged = insulation_output_merged.rename(columns={'Flat/appartement': 'FLAT_APP', 'Vrijstaande woning':'VRIJ','Rijwoning hoek':'RIJHOEK','Rijwoning tussen':'RIJTUSSEN','Twee/één kapwoning':'TWEE_KAP'})\n",
    "insulation_output_merged"
   ]
  },
  {
   "cell_type": "code",
   "execution_count": 119,
   "metadata": {},
   "outputs": [
    {
     "data": {
      "text/plain": [
       "<matplotlib.axes._subplots.AxesSubplot at 0x7fdc7e92bd30>"
      ]
     },
     "execution_count": 119,
     "metadata": {},
     "output_type": "execute_result"
    },
    {
     "data": {
      "image/png": "[encoded data removed]",
      "text/plain": [
       "<matplotlib.figure.Figure at 0x7fdc7e8cc5f8>"
      ]
     },
     "metadata": {},
     "output_type": "display_data"
    }
   ],
   "source": [
    "insulation_output.boxplot(column = 'LABELCAT')"
   ]
  },
  {
   "cell_type": "code",
   "execution_count": 120,
   "metadata": {},
   "outputs": [
    {
     "data": {
      "text/plain": [
       "<matplotlib.axes._subplots.AxesSubplot at 0x7fdc7ec2d048>"
      ]
     },
     "execution_count": 120,
     "metadata": {},
     "output_type": "execute_result"
    },
    {
     "data": {
      "image/png": "[encoded data removed]",
      "text/plain": [
       "<matplotlib.figure.Figure at 0x7fdc7e8c35f8>"
      ]
     },
     "metadata": {},
     "output_type": "display_data"
    }
   ],
   "source": [
    "# plotting distribution of avg label categories\n",
    "insulation_output.LABELCAT.plot.hist(bins=100)"
   ]
  },
  {
   "cell_type": "code",
   "execution_count": 121,
   "metadata": {
    "scrolled": true
   },
   "outputs": [
    {
     "data": {
      "text/plain": [
       "<matplotlib.axes._subplots.AxesSubplot at 0x7fdc7ef4bc50>"
      ]
     },
     "execution_count": 121,
     "metadata": {},
     "output_type": "execute_result"
    },
    {
     "data": {
      "image/png": "[encoded data removed]",
      "text/plain": [
       "<matplotlib.figure.Figure at 0x7fdc7e89aef0>"
      ]
     },
     "metadata": {},
     "output_type": "display_data"
    }
   ],
   "source": [
    "# plotting distribution of avg building year\n",
    "insulation_output.BOUWJAAR_WONING_fl.plot.hist(bins=100)"
   ]
  },
  {
   "cell_type": "code",
   "execution_count": 122,
   "metadata": {},
   "outputs": [
    {
     "data": {
      "text/plain": [
       "2.960321430707261"
      ]
     },
     "execution_count": 122,
     "metadata": {},
     "output_type": "execute_result"
    }
   ],
   "source": [
    "insulation_output.LABELCAT.mean()"
   ]
  },
  {
   "cell_type": "code",
   "execution_count": 123,
   "metadata": {},
   "outputs": [
    {
     "name": "stdout",
     "output_type": "stream",
     "text": [
      "LABELCAT - 0.0%\n",
      "BOUWJAAR_WONING_fl - 0.0%\n"
     ]
    }
   ],
   "source": [
    "for col in insulation_output.columns: # iterate over columns\n",
    "    p_missing = np.mean(insulation_output[col].isnull()) # returns how many values in columns are NA on average\n",
    "    print('{} - {}%'.format(col, round(p_missing*100))) # prints in readable format"
   ]
  },
  {
   "cell_type": "markdown",
   "metadata": {},
   "source": [
    "# 6. Writing the data"
   ]
  },
  {
   "cell_type": "code",
   "execution_count": 124,
   "metadata": {
    "collapsed": true
   },
   "outputs": [],
   "source": [
    "insulation_output_merged.to_csv('/Users/jaromirbogdanovski/Documents/Studie/EPA/Master Thesis/Igor Nikolic/Coding/Data/Output/postcode_ins_by_woningcat_v1.csv')"
   ]
  },
  {
   "cell_type": "code",
   "execution_count": null,
   "metadata": {
    "collapsed": true
   },
   "outputs": [],
   "source": []
  }
 ],
 "metadata": {
  "kernelspec": {
   "display_name": "Python 3",
   "language": "python",
   "name": "python3"
  },
  "language_info": {
   "codemirror_mode": {
    "name": "ipython",
    "version": 3
   },
   "file_extension": ".py",
   "mimetype": "text/x-python",
   "name": "python",
   "nbconvert_exporter": "python",
   "pygments_lexer": "ipython3",
   "version": "3.6.10"
  }
 },
 "nbformat": 4,
 "nbformat_minor": 2
}
