{
 "cells": [
  {
   "cell_type": "markdown",
   "metadata": {},
   "source": [
    "This dataset is used to create and prepare the neighborhods dataset for creating the neighborhoods in the model. The CBS Wijk- en Buurtkaart dataset is used as a source."
   ]
  },
  {
   "cell_type": "code",
   "execution_count": 1,
   "metadata": {},
   "outputs": [],
   "source": [
    "# import packages\n",
    "\n",
    "import numpy as np \n",
    "import pandas as pd  # provides interface for interacting with tabular data\n",
    "import geopandas as gpd  # combines the capabilities of pandas and shapely for geospatial operations\n",
    "from shapely.geometry import Point, Polygon, MultiPolygon  # for manipulating text data into geospatial shapes\n",
    "from shapely import wkt  # stands for \"well known text,\" allows for interchange across GIS programs\n",
    "import rtree  # supports geospatial join\n",
    "\n",
    "# import seaborn as sns\n",
    "import matplotlib. pyplot as plt # for plotting graphs\n",
    "import matplotlib.mlab as mlab # \n",
    "import matplotlib\n",
    "plt.style.use('ggplot') # basic, but functional, plotstyle,\n",
    "from matplotlib.pyplot import figure\n",
    "%matplotlib inline\n",
    "matplotlib.rcParams['figure.figsize'] = (12,8)"
   ]
  },
  {
   "cell_type": "code",
   "execution_count": 2,
   "metadata": {},
   "outputs": [],
   "source": [
    "# read files\n",
    "\n",
    "neighborhoods_input = gpd.read_file(\"/Users/jaromirbogdanovski/Documents/Studie/EPA/Master Thesis/Igor Nikolic/Coding/Data/Input/Buurt/buurt_2017_v3.shp\")\n",
    "#labels_input = pd.read_csv('/Users/jaromirbogdanovski/Documents/Studie/EPA/Master Thesis/Igor Nikolic/Coding/Data/Output/postcode_ins_by_v1.csv')\n",
    "labels_input = pd.read_csv('/Users/jaromirbogdanovski/Documents/Studie/EPA/Master Thesis/Igor Nikolic/Coding/Data/Output/postcode_ins_by_woningcat_v1.csv')"
   ]
  },
  {
   "cell_type": "code",
   "execution_count": null,
   "metadata": {
    "collapsed": true
   },
   "outputs": [],
   "source": [
    "# exclude unnecessary columns\n",
    "\n",
    "neighborhoods_1 = neighborhoods_input[['BU_CODE','BU_NAAM','GM_CODE','GM_NAAM','WATER','POSTCODE','AANTAL_HH','AANT_INW','STED','G_GAS_TOT', 'P_STADVERW', 'WOZ','P_HUURCORP','P_WONV2000', 'geometry']]"
   ]
  },
  {
   "cell_type": "code",
   "execution_count": null,
   "metadata": {},
   "outputs": [],
   "source": [
    "# missing values output all \n",
    "\n",
    "for col in neighborhoods_1.columns: # iterate over columns\n",
    "    p_missing = np.mean(neighborhoods_1[col].isnull()) # returns how many values in columns are NA on average\n",
    "    print('{} - {}%'.format(col, round(p_missing*100))) # prints in readable format"
   ]
  },
  {
   "cell_type": "code",
   "execution_count": null,
   "metadata": {
    "scrolled": false
   },
   "outputs": [],
   "source": [
    "# negative values output\n",
    "\n",
    "for col in neighborhoods_1.columns: # iterate over columns\n",
    "    p_99999999 = np.mean(neighborhoods_1[col] == -99999999) # returns how many values in columns are NA on average\n",
    "    print('{} - {}%'.format(col, round(p_99999999*100))) # prints in readable format"
   ]
  },
  {
   "cell_type": "code",
   "execution_count": null,
   "metadata": {
    "scrolled": true
   },
   "outputs": [],
   "source": [
    "# boxplotting the variables of interest\n",
    "\n",
    "fig, axs = plt.subplots(1,7)\n",
    "fig.suptitle('Before cleaning and preparation')\n",
    "\n",
    "axs[0].boxplot(neighborhoods_1.AANTAL_HH)\n",
    "axs[0].set_title('AANTAL_HH')\n",
    "\n",
    "axs[1].boxplot(neighborhoods_1.STED)\n",
    "axs[1].set_title('STED')\n",
    "\n",
    "axs[2].boxplot(neighborhoods_1.G_GAS_TOT)\n",
    "axs[2].set_title('G_GAS_TOT')\n",
    "\n",
    "axs[3].boxplot(neighborhoods_1.P_HUURCORP)\n",
    "axs[3].set_title('P_HUURCORP')\n",
    "\n",
    "axs[4].boxplot(neighborhoods_1.P_STADVERW)\n",
    "axs[4].set_title('P_STADVERW')\n",
    "\n",
    "axs[5].boxplot(neighborhoods_1.P_WONV2000)\n",
    "axs[5].set_title('P_WONV2000')\n",
    "\n",
    "axs[6].boxplot(neighborhoods_1.WOZ)\n",
    "axs[6].set_title('WOZ')"
   ]
  },
  {
   "cell_type": "code",
   "execution_count": null,
   "metadata": {},
   "outputs": [],
   "source": [
    "neighborhoods_1.P_STADVERW[neighborhoods_1.BU_NAAM == \"Nederlangbroek West- en Oostzijde\"]"
   ]
  },
  {
   "cell_type": "code",
   "execution_count": null,
   "metadata": {
    "collapsed": true
   },
   "outputs": [],
   "source": [
    "# remove non-existing neighborhoods that are water, fictional or dont have any households (0 households)\n",
    "neighborhoods_2 = neighborhoods_1[neighborhoods_1.BU_NAAM != 'None']\n",
    "neighborhoods_3 = neighborhoods_2[neighborhoods_2.WATER == 'NEE']\n",
    "neighborhoods_3 = neighborhoods_3[neighborhoods_3.AANTAL_HH > 0]"
   ]
  },
  {
   "cell_type": "code",
   "execution_count": null,
   "metadata": {},
   "outputs": [],
   "source": [
    "# boxplotting the variables of interest\n",
    "\n",
    "fig, axs = plt.subplots(1,7)\n",
    "fig.suptitle('Before cleaning and preparation, WATER neighborhoods removed')\n",
    "\n",
    "axs[0].boxplot(neighborhoods_3.AANTAL_HH)\n",
    "axs[0].set_title('AANTAL_HH')\n",
    "\n",
    "axs[1].boxplot(neighborhoods_3.STED)\n",
    "axs[1].set_title('STED')\n",
    "\n",
    "axs[2].boxplot(neighborhoods_3.G_GAS_TOT)\n",
    "axs[2].set_title('G_GAS_TOT')\n",
    "\n",
    "axs[3].boxplot(neighborhoods_3.P_HUURCORP)\n",
    "axs[3].set_title('P_HUURCORP')\n",
    "\n",
    "axs[4].boxplot(neighborhoods_3.P_STADVERW)\n",
    "axs[4].set_title('P_STADVERW')\n",
    "\n",
    "axs[5].boxplot(neighborhoods_3.P_WONV2000)\n",
    "axs[5].set_title('P_WONV2000')\n",
    "\n",
    "axs[6].boxplot(neighborhoods_3.WOZ)\n",
    "axs[6].set_title('WOZ')"
   ]
  },
  {
   "cell_type": "code",
   "execution_count": null,
   "metadata": {
    "collapsed": true
   },
   "outputs": [],
   "source": [
    "neighborhoods_3_test = neighborhoods_3[neighborhoods_3.GM_NAAM == \"Rotterdam\"]\n",
    "#neighborhoods_3_test\n",
    "#neighborhoods_3_test.P_STADVERW.loc[7010]"
   ]
  },
  {
   "cell_type": "code",
   "execution_count": null,
   "metadata": {
    "scrolled": true
   },
   "outputs": [],
   "source": [
    "# adjust non-sensible negative values to averages of neighborhoods\n",
    "\n",
    "# first add a neighborhoods column to the dataframe\n",
    "neighborhoods_3['NEIGHBORS'] = None\n",
    "\n",
    "# iterate over index and add list of neighbors to all neighborhoods\n",
    "for index, neighborhood in neighborhoods_3.iterrows():\n",
    "    try:\n",
    "        neighbors = neighborhoods_3[~neighborhoods_3.geometry.disjoint(neighborhood.geometry)].BU_NAAM.tolist()\n",
    "        neighbors = [name for name in neighbors if neighborhood.BU_NAAM != name ]\n",
    "        neighborhoods_3.at[index, \"NEIGHBORS\"] = neighbors\n",
    "    except: # due to errors with a few polygons this exception is built in --> instead of neighbors, all neighborhoods of municipality\n",
    "        gm_naam = neighborhoods_3.GM_NAAM.loc[index]\n",
    "        neighbors = neighborhoods_3[neighborhoods_3.GM_NAAM == gm_naam].BU_NAAM.tolist()\n",
    "        neighbors = [name for name in neighbors if neighborhood.BU_NAAM != name ]\n",
    "        neighborhoods_3.at[index, \"NEIGHBORS\"] = neighbors\n",
    "\n",
    "\n",
    "\n"
   ]
  },
  {
   "cell_type": "code",
   "execution_count": null,
   "metadata": {},
   "outputs": [],
   "source": [
    "neighborhoods_3[neighborhoods_3.NEIGHBORS.isnull()]"
   ]
  },
  {
   "cell_type": "code",
   "execution_count": null,
   "metadata": {
    "scrolled": true
   },
   "outputs": [],
   "source": [
    "for col in neighborhoods_3.columns: # iterate over columns\n",
    "    p_missing = np.mean(neighborhoods_3[col].isnull()) # returns how many values in columns are NA on average\n",
    "    print('{} - {}%'.format(col, round(p_missing*100))) # prints in readable format"
   ]
  },
  {
   "cell_type": "code",
   "execution_count": null,
   "metadata": {
    "collapsed": true
   },
   "outputs": [],
   "source": [
    "# function that reports the average of a given variable of all its neighbors (given a neighbors column exists)if it is a missing value\n",
    "\n",
    "def avg_neighbors(row, var, df):\n",
    "    if df[var].loc[row] < 0:\n",
    "        # create list with my neighbor names\n",
    "        neighbor_list = df.NEIGHBORS.loc[row]\n",
    "        \n",
    "        # calculate mean of desired variable of neighborhoods\n",
    "        mean = df[var][(df.BU_NAAM.isin(neighbor_list)) & (df[var] >= 0)].mean()\n",
    "        \n",
    "        if mean >= 0:\n",
    "            return mean\n",
    "        else:\n",
    "            return 0"
   ]
  },
  {
   "cell_type": "code",
   "execution_count": null,
   "metadata": {},
   "outputs": [],
   "source": [
    "neighborhoods_3_test = neighborhoods_3[neighborhoods_3.GM_NAAM == \"Rotterdam\"]\n",
    "neighborhoods_3_test"
   ]
  },
  {
   "cell_type": "code",
   "execution_count": null,
   "metadata": {},
   "outputs": [],
   "source": [
    "# adjust non-sensible negative values to averages of neighborhoods\n",
    "\n",
    "for index in neighborhoods_3_test.index:\n",
    "    if neighborhoods_3_test['STED'].loc[index] < 0:\n",
    "        neighborhoods_3_test['STED'].loc[index] = avg_neighbors(index, 'STED', neighborhoods_3_test)\n",
    "    if neighborhoods_3_test['G_GAS_TOT'].loc[index] < 0:\n",
    "        neighborhoods_3_test['G_GAS_TOT'].loc[index] = avg_neighbors(index, 'G_GAS_TOT', neighborhoods_3_test)\n",
    "    if neighborhoods_3_test['P_HUURCORP'].loc[index] < 0:\n",
    "        neighborhoods_3_test['P_HUURCORP'].loc[index] = avg_neighbors(index, 'P_HUURCORP', neighborhoods_3_test)\n",
    "    if neighborhoods_3_test['P_STADVERW'].loc[index] < 0:\n",
    "        neighborhoods_3_test['P_STADVERW'].loc[index] = 0\n",
    "    if neighborhoods_3_test['P_WONV2000'].loc[index] < 0:\n",
    "        neighborhoods_3_test['P_WONV2000'].loc[index] = avg_neighbors(index, 'P_WONV2000', neighborhoods_3_test)\n",
    "    if neighborhoods_3_test['WOZ'].loc[index] < 0:\n",
    "        neighborhoods_3_test['WOZ'].loc[index] = avg_neighbors(index, 'WOZ', neighborhoods_3_test)\n",
    "    \n",
    "#neighborhoods_3_test.sample(80)"
   ]
  },
  {
   "cell_type": "code",
   "execution_count": null,
   "metadata": {},
   "outputs": [],
   "source": [
    "# adjust non-sensible negative values to averages of neighborhoods\n",
    "\n",
    "for index in neighborhoods_3.index:\n",
    "    if neighborhoods_3['STED'].loc[index] < 0:\n",
    "        neighborhoods_3['STED'].loc[index] = avg_neighbors(index, 'STED', neighborhoods_3)\n",
    "    if neighborhoods_3['G_GAS_TOT'].loc[index] < 0:\n",
    "        neighborhoods_3['G_GAS_TOT'].loc[index] = avg_neighbors(index, 'G_GAS_TOT', neighborhoods_3)\n",
    "    if neighborhoods_3['P_HUURCORP'].loc[index] < 0:\n",
    "        neighborhoods_3['P_HUURCORP'].loc[index] = avg_neighbors(index, 'P_HUURCORP', neighborhoods_3)\n",
    "    if neighborhoods_3['P_STADVERW'].loc[index] < 0:\n",
    "        neighborhoods_3['P_STADVERW'].loc[index] = avg_neighbors(index, 'P_STADVERW', neighborhoods_3)\n",
    "    if neighborhoods_3['P_WONV2000'].loc[index] < 0:\n",
    "        neighborhoods_3['P_WONV2000'].loc[index] = avg_neighbors(index, 'P_WONV2000', neighborhoods_3)\n",
    "    if neighborhoods_3['WOZ'].loc[index] < 0:\n",
    "        neighborhoods_3['WOZ'].loc[index] = avg_neighbors(index, 'WOZ', neighborhoods_3)\n",
    "    \n",
    "# neighborhoods_3.sample(90)"
   ]
  },
  {
   "cell_type": "code",
   "execution_count": null,
   "metadata": {
    "scrolled": true
   },
   "outputs": [],
   "source": [
    "# missing values output all \n",
    "\n",
    "for col in neighborhoods_3.columns: # iterate over columns\n",
    "    p_missing = np.mean(neighborhoods_3[col].isnull()) # returns how many values in columns are NA on average\n",
    "    print('{} - {}%'.format(col, round(p_missing*100))) # prints in readable format"
   ]
  },
  {
   "cell_type": "code",
   "execution_count": null,
   "metadata": {
    "scrolled": true
   },
   "outputs": [],
   "source": [
    "# negative values output\n",
    "\n",
    "for col in neighborhoods_3.columns: # iterate over columns\n",
    "    p_99999999 = np.mean(neighborhoods_3[col] == -99999999) # returns how many values in columns are NA on average\n",
    "    print('{} - {}%'.format(col, round(p_99999999*100))) # prints in readable format"
   ]
  },
  {
   "cell_type": "code",
   "execution_count": null,
   "metadata": {},
   "outputs": [],
   "source": [
    "neighborhoods_3.boxplot()"
   ]
  },
  {
   "cell_type": "code",
   "execution_count": null,
   "metadata": {
    "scrolled": true
   },
   "outputs": [],
   "source": [
    "fig, axs = plt.subplots(1)\n",
    "fig.suptitle('After cleaning and preparation')\n",
    "\n",
    "axs.boxplot(neighborhoods_3.STED)\n",
    "axs.set_title('AANTAL_HH')"
   ]
  },
  {
   "cell_type": "code",
   "execution_count": null,
   "metadata": {},
   "outputs": [],
   "source": [
    "# boxplotting the variables of interest after cleaning and preparation\n",
    "\n",
    "fig, axs = plt.subplots(1,7)\n",
    "fig.suptitle('After cleaning and preparation')\n",
    "\n",
    "axs[0].boxplot(neighborhoods_3.AANTAL_HH)\n",
    "axs[0].set_title('AANTAL_HH')\n",
    "\n",
    "axs[1].boxplot(neighborhoods_3.STED)\n",
    "axs[1].set_title('STED')\n",
    "\n",
    "axs[2].boxplot(neighborhoods_3.G_GAS_TOT)\n",
    "axs[2].set_title('G_GAS_TOT')\n",
    "\n",
    "axs[3].boxplot(neighborhoods_3.P_HUURCORP)\n",
    "axs[3].set_title('P_HUURCORP')\n",
    "\n",
    "axs[4].boxplot(neighborhoods_3.P_STADVERW)\n",
    "axs[4].set_title('P_STADVERW')\n",
    "\n",
    "axs[5].boxplot(neighborhoods_3.P_WONV2000)\n",
    "axs[5].set_title('P_WONV2000')\n",
    "\n",
    "axs[6].boxplot(neighborhoods_3.WOZ)\n",
    "axs[6].set_title('WOZ')"
   ]
  },
  {
   "cell_type": "code",
   "execution_count": null,
   "metadata": {
    "collapsed": true
   },
   "outputs": [],
   "source": [
    "# clean data and fill non-sensible (below zero) variables with averages of neighbors\n",
    "\n",
    "# remove unnessesary columns\n",
    "\n",
    "# remove entries that are classified as WATER\n",
    "\n",
    "# remove entries that have no households\n",
    "\n",
    "# put averages "
   ]
  },
  {
   "cell_type": "code",
   "execution_count": null,
   "metadata": {
    "collapsed": true
   },
   "outputs": [],
   "source": [
    "# transform data\n",
    "\n",
    "# adding the energy labels datast to the neighborhoods dataframe\n",
    "neighborhoods_7 = neighborhoods_3.copy()\n",
    "neighborhoods_7['POSTCODE'] = neighborhoods_3['POSTCODE'].apply(pd.to_numeric)\n",
    "neighborhoods_8 = neighborhoods_7.merge(labels_input, how = 'left', left_on='POSTCODE', right_on = 'POSTCODE_DIGITS')\n",
    "# remove entries that slipped through that have no such values\n",
    "neighborhoods_9 = neighborhoods_8[(neighborhoods_8['STED'] > 0) & (neighborhoods_8['LABELCAT'] > 0)]"
   ]
  },
  {
   "cell_type": "code",
   "execution_count": null,
   "metadata": {
    "scrolled": false
   },
   "outputs": [],
   "source": [
    "# transforming the projection system to WGS84 to be readable for Netlogo\n",
    "neighborhoods_9_WGS84 = neighborhoods_9.to_crs(\"EPSG:32632\")\n",
    "neighborhoods_9_WGS84.crs"
   ]
  },
  {
   "cell_type": "code",
   "execution_count": null,
   "metadata": {
    "collapsed": true,
    "scrolled": true
   },
   "outputs": [],
   "source": [
    "neighborhoods_10_WGS84 = neighborhoods_9_WGS84.drop('NEIGHBORS', axis=1)"
   ]
  },
  {
   "cell_type": "code",
   "execution_count": null,
   "metadata": {
    "scrolled": true
   },
   "outputs": [],
   "source": [
    "neighborhoods_10_WGS84.WOZ.isnull().value_counts()"
   ]
  },
  {
   "cell_type": "code",
   "execution_count": null,
   "metadata": {},
   "outputs": [],
   "source": [
    "neighborhoods_10_WGS84.P_STADVERW[neighborhoods_10_WGS84.BU_NAAM == \"Nederlangbroek West- en Oostzijde\"]"
   ]
  },
  {
   "cell_type": "code",
   "execution_count": null,
   "metadata": {
    "collapsed": true
   },
   "outputs": [],
   "source": [
    "# output data\n",
    "neighborhoods_10_WGS84.to_file(\"/Users/jaromirbogdanovski/Documents/Studie/EPA/Master Thesis/Igor Nikolic/Coding/Data/Output/Buurt/30_07/neighborhoods.shp\")"
   ]
  },
  {
   "cell_type": "code",
   "execution_count": null,
   "metadata": {
    "collapsed": true
   },
   "outputs": [],
   "source": []
  },
  {
   "cell_type": "code",
   "execution_count": 9,
   "metadata": {},
   "outputs": [],
   "source": [
    "# output data descriptives\n",
    "nh_descriptives = gpd.read_file(\"/Users/jaromirbogdanovski/Documents/Studie/EPA/Master Thesis/Igor Nikolic/Coding/Data/Output/Buurt/30_07/neighborhoods.shp\")"
   ]
  },
  {
   "cell_type": "code",
   "execution_count": 20,
   "metadata": {},
   "outputs": [],
   "source": [
    "df_latex1 = nh_descriptives[['AANTAL_HH', 'STED', 'P_STADVERW', 'WOZ', 'P_HUURCORP', 'P_WONV2000']].describe()"
   ]
  },
  {
   "cell_type": "code",
   "execution_count": 21,
   "metadata": {},
   "outputs": [
    {
     "name": "stdout",
     "output_type": "stream",
     "text": [
      "\\begin{tabular}{lrrrrrr}\n",
      "\\toprule\n",
      "{} &     AANTAL\\_HH &          STED &    P\\_STADVERW &           WOZ &    P\\_HUURCORP &    P\\_WONV2000 \\\\\n",
      "\\midrule\n",
      "count &  12603.000000 &  12603.000000 &  12603.000000 &  12603.000000 &  12603.000000 &  12603.000000 \\\\\n",
      "mean  &    616.886852 &      3.593589 &     13.155662 &    250.613512 &     18.242060 &     15.349301 \\\\\n",
      "std   &    831.307088 &      1.487139 &     17.569534 &    109.757676 &     20.657545 &     21.328644 \\\\\n",
      "min   &      5.000000 &      1.000000 &      0.000000 &      0.000000 &      0.000000 &      0.000000 \\\\\n",
      "25\\%   &     80.000000 &      2.000000 &      0.000000 &    182.000000 &      0.000000 &      3.000000 \\\\\n",
      "50\\%   &    320.000000 &      4.000000 &      8.000000 &    234.000000 &     13.000000 &      9.000000 \\\\\n",
      "75\\%   &    840.000000 &      5.000000 &     18.613103 &    298.000000 &     29.000000 &     17.000000 \\\\\n",
      "max   &  13950.000000 &      5.000000 &    100.000000 &   1633.000000 &    100.000000 &    100.000000 \\\\\n",
      "\\bottomrule\n",
      "\\end{tabular}\n",
      "\n"
     ]
    }
   ],
   "source": [
    "print(df_latex1.to_latex())"
   ]
  },
  {
   "cell_type": "code",
   "execution_count": 22,
   "metadata": {},
   "outputs": [],
   "source": [
    "df_latex2 = nh_descriptives[['LABELCAT', 'FLAT_APP', 'VRIJ', 'RIJHOEK', 'RIJTUSSEN', 'TWEE_KAP']].describe()"
   ]
  },
  {
   "cell_type": "code",
   "execution_count": 23,
   "metadata": {},
   "outputs": [
    {
     "name": "stdout",
     "output_type": "stream",
     "text": [
      "\\begin{tabular}{lrrrrrr}\n",
      "\\toprule\n",
      "{} &      LABELCAT &      FLAT\\_APP &          VRIJ &       RIJHOEK &     RIJTUSSEN &      TWEE\\_KAP \\\\\n",
      "\\midrule\n",
      "count &  12603.000000 &  12603.000000 &  12603.000000 &  12603.000000 &  12603.000000 &  12603.000000 \\\\\n",
      "mean  &      3.143605 &      0.240946 &      0.270399 &      0.114703 &      0.219623 &      0.148651 \\\\\n",
      "std   &      0.952924 &      0.231412 &      0.243845 &      0.060932 &      0.144292 &      0.103272 \\\\\n",
      "min   &      0.048780 &      0.000000 &      0.000000 &      0.000000 &      0.000000 &      0.000000 \\\\\n",
      "25\\%   &      2.580533 &      0.078404 &      0.066082 &      0.071375 &      0.099008 &      0.062913 \\\\\n",
      "50\\%   &      3.174914 &      0.163522 &      0.205607 &      0.121745 &      0.208448 &      0.142857 \\\\\n",
      "75\\%   &      3.668157 &      0.324902 &      0.421887 &      0.160648 &      0.329387 &      0.221936 \\\\\n",
      "max   &      6.000000 &      1.000000 &      1.000000 &      0.500000 &      0.800407 &      0.823529 \\\\\n",
      "\\bottomrule\n",
      "\\end{tabular}\n",
      "\n"
     ]
    }
   ],
   "source": [
    "print(df_latex2.to_latex())"
   ]
  },
  {
   "cell_type": "code",
   "execution_count": null,
   "metadata": {},
   "outputs": [],
   "source": []
  },
  {
   "cell_type": "code",
   "execution_count": null,
   "metadata": {},
   "outputs": [],
   "source": []
  },
  {
   "cell_type": "code",
   "execution_count": 24,
   "metadata": {},
   "outputs": [],
   "source": [
    "insulation_input = pd.read_csv('/Users/jaromirbogdanovski/Documents/Studie/EPA/Master Thesis/Igor Nikolic/Coding/Data/Input/Voorlopige-labels-december-2019_FAST_v1.csv', low_memory = False)"
   ]
  },
  {
   "cell_type": "code",
   "execution_count": 26,
   "metadata": {},
   "outputs": [
    {
     "data": {
      "text/html": [
       "<div>\n",
       "<style scoped>\n",
       "    .dataframe tbody tr th:only-of-type {\n",
       "        vertical-align: middle;\n",
       "    }\n",
       "\n",
       "    .dataframe tbody tr th {\n",
       "        vertical-align: top;\n",
       "    }\n",
       "\n",
       "    .dataframe thead th {\n",
       "        text-align: right;\n",
       "    }\n",
       "</style>\n",
       "<table border=\"1\" class=\"dataframe\">\n",
       "  <thead>\n",
       "    <tr style=\"text-align: right;\">\n",
       "      <th></th>\n",
       "      <th>POSTCODE_WONING</th>\n",
       "      <th>HUISNUMMER_WONING</th>\n",
       "      <th>HUISNUMMER_TOEV_WONING</th>\n",
       "      <th>BOUWJAAR_WONING</th>\n",
       "      <th>WONING_TYPE</th>\n",
       "      <th>VOORL_BEREKEND</th>\n",
       "    </tr>\n",
       "  </thead>\n",
       "  <tbody>\n",
       "    <tr>\n",
       "      <th>0</th>\n",
       "      <td>9901KB</td>\n",
       "      <td>16.0</td>\n",
       "      <td>NaN</td>\n",
       "      <td>2002.0</td>\n",
       "      <td>Flat/appartement</td>\n",
       "      <td>B</td>\n",
       "    </tr>\n",
       "    <tr>\n",
       "      <th>1</th>\n",
       "      <td>9901KB</td>\n",
       "      <td>20.0</td>\n",
       "      <td>NaN</td>\n",
       "      <td>2002.0</td>\n",
       "      <td>Flat/appartement</td>\n",
       "      <td>B</td>\n",
       "    </tr>\n",
       "    <tr>\n",
       "      <th>2</th>\n",
       "      <td>9901AD</td>\n",
       "      <td>9.0</td>\n",
       "      <td>NaN</td>\n",
       "      <td>1800.0</td>\n",
       "      <td>Niet wonen</td>\n",
       "      <td>NaN</td>\n",
       "    </tr>\n",
       "    <tr>\n",
       "      <th>3</th>\n",
       "      <td>9901AD</td>\n",
       "      <td>13.0</td>\n",
       "      <td>NaN</td>\n",
       "      <td>1920.0</td>\n",
       "      <td>Niet wonen</td>\n",
       "      <td>NaN</td>\n",
       "    </tr>\n",
       "    <tr>\n",
       "      <th>4</th>\n",
       "      <td>9901AD</td>\n",
       "      <td>15.0</td>\n",
       "      <td>NaN</td>\n",
       "      <td>1925.0</td>\n",
       "      <td>Vrijstaande woning</td>\n",
       "      <td>G</td>\n",
       "    </tr>\n",
       "    <tr>\n",
       "      <th>...</th>\n",
       "      <td>...</td>\n",
       "      <td>...</td>\n",
       "      <td>...</td>\n",
       "      <td>...</td>\n",
       "      <td>...</td>\n",
       "      <td>...</td>\n",
       "    </tr>\n",
       "    <tr>\n",
       "      <th>9070192</th>\n",
       "      <td>1601EE</td>\n",
       "      <td>31.0</td>\n",
       "      <td>NaN</td>\n",
       "      <td>2016.0</td>\n",
       "      <td>Rijwoning hoek</td>\n",
       "      <td>A</td>\n",
       "    </tr>\n",
       "    <tr>\n",
       "      <th>9070193</th>\n",
       "      <td>1601AC</td>\n",
       "      <td>65.0</td>\n",
       "      <td>A</td>\n",
       "      <td>1659.0</td>\n",
       "      <td>Flat/appartement</td>\n",
       "      <td>G</td>\n",
       "    </tr>\n",
       "    <tr>\n",
       "      <th>9070194</th>\n",
       "      <td>1602CS</td>\n",
       "      <td>20.0</td>\n",
       "      <td>NaN</td>\n",
       "      <td>2017.0</td>\n",
       "      <td>Vrijstaande woning</td>\n",
       "      <td>A</td>\n",
       "    </tr>\n",
       "    <tr>\n",
       "      <th>9070195</th>\n",
       "      <td>1602CS</td>\n",
       "      <td>24.0</td>\n",
       "      <td>NaN</td>\n",
       "      <td>2017.0</td>\n",
       "      <td>Vrijstaande woning</td>\n",
       "      <td>A</td>\n",
       "    </tr>\n",
       "    <tr>\n",
       "      <th>9070196</th>\n",
       "      <td>1602CS</td>\n",
       "      <td>40.0</td>\n",
       "      <td>NaN</td>\n",
       "      <td>2017.0</td>\n",
       "      <td>Vrijstaande woning</td>\n",
       "      <td>A</td>\n",
       "    </tr>\n",
       "  </tbody>\n",
       "</table>\n",
       "<p>9070197 rows × 6 columns</p>\n",
       "</div>"
      ],
      "text/plain": [
       "        POSTCODE_WONING HUISNUMMER_WONING HUISNUMMER_TOEV_WONING  \\\n",
       "0                9901KB              16.0                    NaN   \n",
       "1                9901KB              20.0                    NaN   \n",
       "2                9901AD               9.0                    NaN   \n",
       "3                9901AD              13.0                    NaN   \n",
       "4                9901AD              15.0                    NaN   \n",
       "...                 ...               ...                    ...   \n",
       "9070192          1601EE              31.0                    NaN   \n",
       "9070193          1601AC              65.0                      A   \n",
       "9070194          1602CS              20.0                    NaN   \n",
       "9070195          1602CS              24.0                    NaN   \n",
       "9070196          1602CS              40.0                    NaN   \n",
       "\n",
       "        BOUWJAAR_WONING         WONING_TYPE VOORL_BEREKEND  \n",
       "0                2002.0    Flat/appartement              B  \n",
       "1                2002.0    Flat/appartement              B  \n",
       "2                1800.0          Niet wonen            NaN  \n",
       "3                1920.0          Niet wonen            NaN  \n",
       "4                1925.0  Vrijstaande woning              G  \n",
       "...                 ...                 ...            ...  \n",
       "9070192          2016.0      Rijwoning hoek              A  \n",
       "9070193          1659.0    Flat/appartement              G  \n",
       "9070194          2017.0  Vrijstaande woning              A  \n",
       "9070195          2017.0  Vrijstaande woning              A  \n",
       "9070196          2017.0  Vrijstaande woning              A  \n",
       "\n",
       "[9070197 rows x 6 columns]"
      ]
     },
     "execution_count": 26,
     "metadata": {},
     "output_type": "execute_result"
    }
   ],
   "source": [
    "insulation_input"
   ]
  },
  {
   "cell_type": "code",
   "execution_count": 27,
   "metadata": {},
   "outputs": [],
   "source": [
    "df_latex3 = insulation_input[['POSTCODE_WONING', 'WONING_TYPE', 'VOORL_BEREKEND']].describe()"
   ]
  },
  {
   "cell_type": "code",
   "execution_count": 29,
   "metadata": {},
   "outputs": [
    {
     "name": "stdout",
     "output_type": "stream",
     "text": [
      "\\begin{tabular}{llll}\n",
      "\\toprule\n",
      "{} & POSTCODE\\_WONING &       WONING\\_TYPE & VOORL\\_BEREKEND \\\\\n",
      "\\midrule\n",
      "count  &         9070197 &           9070197 &        8317556 \\\\\n",
      "unique &          459632 &                 9 &              8 \\\\\n",
      "top    &          1033SC &  Flat/appartement &              C \\\\\n",
      "freq   &            1107 &           2857292 &        2283250 \\\\\n",
      "\\bottomrule\n",
      "\\end{tabular}\n",
      "\n"
     ]
    }
   ],
   "source": [
    "print(df_latex3.to_latex())"
   ]
  },
  {
   "cell_type": "code",
   "execution_count": null,
   "metadata": {},
   "outputs": [],
   "source": []
  }
 ],
 "metadata": {
  "kernelspec": {
   "display_name": "Python 3",
   "language": "python",
   "name": "python3"
  },
  "language_info": {
   "codemirror_mode": {
    "name": "ipython",
    "version": 3
   },
   "file_extension": ".py",
   "mimetype": "text/x-python",
   "name": "python",
   "nbconvert_exporter": "python",
   "pygments_lexer": "ipython3",
   "version": "3.6.10"
  }
 },
 "nbformat": 4,
 "nbformat_minor": 2
}
